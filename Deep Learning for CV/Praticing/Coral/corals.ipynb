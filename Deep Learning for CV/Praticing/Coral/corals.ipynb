{
 "cells": [
  {
   "cell_type": "code",
   "execution_count": 3,
   "metadata": {},
   "outputs": [],
   "source": [
    "import torch\n",
    "from torch.utils.data import DataLoader\n",
    "from torchvision import datasets, transforms"
   ]
  },
  {
   "cell_type": "code",
   "execution_count": null,
   "metadata": {},
   "outputs": [
    {
     "name": "stdout",
     "output_type": "stream",
     "text": [
      "Número de imagens de treinamento: 738\n",
      "Número de imagens de validação: 923\n",
      "torch.Size([32, 3, 128, 128])\n",
      "tensor([0, 0, 0, 0, 0, 1, 1, 0, 0, 0, 1, 1, 0, 0, 1, 0, 1, 0, 0, 1, 0, 1, 0, 1,\n",
      "        0, 1, 0, 1, 0, 1, 1, 0])\n"
     ]
    }
   ],
   "source": [
    "from torch.utils.data import DataLoader, random_split\n",
    "\n",
    "# Dataset disponivel em https://www.kaggle.com/code/gauravduttakiit/resnet50-corals-image-classification\n",
    "train_dir = '/home/guilherme/Documentos/Projetos/Estudos-IC/Deep Learning for CV/Praticing'\n",
    "\n",
    "# Definindo as transformações para as imagens\n",
    "train_transform = transforms.Compose([\n",
    "    transforms.Resize((128, 128)),\n",
    "    transforms.RandomHorizontalFlip(p=0.5),\n",
    "    transforms.RandomRotation(15),\n",
    "    transforms.ToTensor(),\n",
    "    transforms.Normalize(mean=[0.485, 0.456, 0.406], std=[0.229, 0.224, 0.225])\n",
    "])\n",
    "\n",
    "val_transform = transforms.Compose([\n",
    "    transforms.Resize((128, 128)),\n",
    "    transforms.ToTensor(),\n",
    "    transforms.Normalize(mean=[0.485, 0.456, 0.406], std=[0.229, 0.224, 0.225])\n",
    "])\n",
    "\n",
    "# Carregando o dataset com todas as imagens\n",
    "full_dataset = datasets.ImageFolder(root=train_dir, transform=train_transform)\n",
    "\n",
    "# Determinando o tamanho de treino e validação (80% treino, 20% validação)\n",
    "train_size = int(0.8 * len(full_dataset))\n",
    "val_size = len(full_dataset) - train_size\n",
    "\n",
    "# Dividindo o dataset em treino e validação\n",
    "train_dataset, val_dataset = random_split(full_dataset, [train_size, val_size])\n",
    "\n",
    "# Aplicando as transformações de validação no dataset de validação\n",
    "val_dataset = datasets.ImageFolder(root=train_dir, transform=val_transform)\n",
    "\n",
    "# Criando DataLoader para carregar as imagens em lotes\n",
    "train_loader = DataLoader(train_dataset, batch_size=32, shuffle=True)\n",
    "val_loader = DataLoader(val_dataset, batch_size=32, shuffle=False)\n",
    "\n",
    "# Verificando o tamanho dos datasets\n",
    "print(f'Número de imagens de treinamento: {len(train_dataset)}')\n",
    "print(f'Número de imagens de validação: {len(val_dataset)}')\n",
    "\n",
    "# Exemplo de iteração sobre os dados de treinamento\n",
    "for images, labels in train_loader:\n",
    "    print(images.shape)  # Exibe o formato das imagens (batch_size, 3, 128, 128)\n",
    "    print(labels)         # Exibe os rótulos das imagens\n",
    "    break\n"
   ]
  },
  {
   "cell_type": "markdown",
   "metadata": {},
   "source": [
    "Criando o modelo"
   ]
  },
  {
   "cell_type": "code",
   "execution_count": 4,
   "metadata": {},
   "outputs": [],
   "source": [
    "model = torch.nn.Sequential(\n",
    "    torch.nn.Conv2d(in_channels=3, out_channels=16, kernel_size=3, stride=1, padding=1),\n",
    "    torch.nn.ReLU(),\n",
    "    torch.nn.MaxPool2d(kernel_size=2, stride=2),\n",
    "    torch.nn.Flatten(),\n",
    "    torch.nn.Linear(16 * 64 * 64, 2)\n",
    ")"
   ]
  },
  {
   "cell_type": "code",
   "execution_count": null,
   "metadata": {},
   "outputs": [],
   "source": [
    "import torch\n",
    "import torch.nn as nn\n",
    "import torch.optim as optim\n",
    "from torch.utils.data import DataLoader\n",
    "from torch import nn\n",
    "from torchvision import datasets, transforms\n",
    "from torch.utils.data import random_split\n",
    "from torch.utils.data import DataLoader\n",
    "\n",
    "criterion = nn.CrossEntropyLoss()  \n",
    "optimizer = optim.Adam(model.parameters(), lr=0.001)\n",
    "\n",
    "device = torch.device(\"cuda\" if torch.cuda.is_available() else \"cpu\")\n",
    "model.to(device)\n",
    "\n",
    "def train(model, train_loader, criterion, optimizer, device):\n",
    "    model.train()  \n",
    "    running_loss = 0.0\n",
    "    correct = 0\n",
    "    total = 0\n",
    "    \n",
    "    for images, labels in train_loader:\n",
    "        images, labels = images.to(device), labels.to(device)\n",
    "        \n",
    "        outputs = model(images)\n",
    "        \n",
    "        loss = criterion(outputs, labels)\n",
    "        \n",
    "        loss.backward()\n",
    "        \n",
    "        optimizer.step()\n",
    "        optimizer.zero_grad()\n",
    "        \n",
    "        running_loss += loss.item()\n",
    "        _, predicted = torch.max(outputs, 1)\n",
    "        total += labels.size(0)\n",
    "        correct += (predicted == labels).sum().item()\n",
    "    \n",
    "    # Média da perda e acurácia\n",
    "    epoch_loss = running_loss / len(train_loader)\n",
    "    epoch_accuracy = correct / total * 100\n",
    "    \n",
    "    return epoch_loss, epoch_accuracy"
   ]
  },
  {
   "cell_type": "code",
   "execution_count": 5,
   "metadata": {},
   "outputs": [
    {
     "name": "stdout",
     "output_type": "stream",
     "text": [
      "Época 1/500 - Perda: 1.2012 - Acurácia: 68.29%\n",
      "Época 2/500 - Perda: 0.8470 - Acurácia: 71.82%\n",
      "Época 3/500 - Perda: 0.7750 - Acurácia: 72.22%\n",
      "Época 4/500 - Perda: 1.2125 - Acurácia: 67.34%\n",
      "Época 5/500 - Perda: 0.9405 - Acurácia: 70.60%\n",
      "Época 6/500 - Perda: 0.6429 - Acurácia: 73.98%\n",
      "Época 7/500 - Perda: 0.6635 - Acurácia: 72.36%\n",
      "Época 8/500 - Perda: 0.8823 - Acurácia: 70.73%\n",
      "Época 9/500 - Perda: 0.8938 - Acurácia: 67.75%\n",
      "Época 10/500 - Perda: 0.4861 - Acurácia: 77.64%\n",
      "Época 11/500 - Perda: 0.4778 - Acurácia: 79.95%\n",
      "Época 12/500 - Perda: 0.4203 - Acurácia: 81.98%\n",
      "Época 13/500 - Perda: 0.4207 - Acurácia: 81.44%\n",
      "Época 14/500 - Perda: 0.4184 - Acurácia: 81.03%\n",
      "Época 15/500 - Perda: 0.5332 - Acurácia: 77.10%\n",
      "Época 16/500 - Perda: 0.4680 - Acurácia: 80.49%\n",
      "Época 17/500 - Perda: 0.4365 - Acurácia: 80.89%\n",
      "Época 18/500 - Perda: 0.4801 - Acurácia: 82.11%\n",
      "Época 19/500 - Perda: 0.4827 - Acurácia: 77.51%\n",
      "Época 20/500 - Perda: 0.4047 - Acurácia: 81.71%\n",
      "Época 21/500 - Perda: 0.3559 - Acurácia: 85.09%\n",
      "Época 22/500 - Perda: 0.3870 - Acurácia: 83.33%\n",
      "Época 23/500 - Perda: 0.3820 - Acurácia: 83.06%\n",
      "Época 24/500 - Perda: 0.3667 - Acurácia: 82.52%\n",
      "Época 25/500 - Perda: 0.3678 - Acurácia: 83.20%\n",
      "Época 26/500 - Perda: 0.3881 - Acurácia: 83.33%\n",
      "Época 27/500 - Perda: 0.3265 - Acurácia: 84.15%\n",
      "Época 28/500 - Perda: 0.3099 - Acurácia: 86.86%\n",
      "Época 29/500 - Perda: 0.3016 - Acurácia: 87.53%\n",
      "Época 30/500 - Perda: 0.3012 - Acurácia: 87.40%\n",
      "Época 31/500 - Perda: 0.3380 - Acurácia: 85.23%\n",
      "Época 32/500 - Perda: 0.3633 - Acurácia: 82.66%\n",
      "Época 33/500 - Perda: 0.2953 - Acurácia: 86.86%\n",
      "Época 34/500 - Perda: 0.2660 - Acurácia: 89.70%\n",
      "Época 35/500 - Perda: 0.2891 - Acurácia: 87.67%\n",
      "Época 36/500 - Perda: 0.3066 - Acurácia: 88.08%\n",
      "Época 37/500 - Perda: 0.3449 - Acurácia: 85.91%\n",
      "Época 38/500 - Perda: 0.3149 - Acurácia: 86.72%\n",
      "Época 39/500 - Perda: 0.3530 - Acurácia: 84.15%\n",
      "Época 40/500 - Perda: 0.2937 - Acurácia: 88.08%\n",
      "Época 41/500 - Perda: 0.3936 - Acurácia: 81.44%\n",
      "Época 42/500 - Perda: 0.3285 - Acurácia: 85.91%\n",
      "Época 43/500 - Perda: 0.2943 - Acurácia: 86.99%\n",
      "Época 44/500 - Perda: 0.2456 - Acurácia: 90.24%\n",
      "Época 45/500 - Perda: 0.2724 - Acurácia: 87.53%\n",
      "Época 46/500 - Perda: 0.2923 - Acurácia: 89.30%\n",
      "Época 47/500 - Perda: 0.3645 - Acurácia: 84.42%\n",
      "Época 48/500 - Perda: 0.2894 - Acurácia: 89.16%\n",
      "Época 49/500 - Perda: 0.3022 - Acurácia: 86.86%\n",
      "Época 50/500 - Perda: 0.2444 - Acurácia: 89.02%\n"
     ]
    }
   ],
   "source": [
    "for epoch in range(50):\n",
    "    epoch_loss, epoch_accuracy = train(model, train_loader, criterion, optimizer, device)\n",
    "    \n",
    "    print(f\"Época {epoch+1}/500 - Perda: {epoch_loss:.4f} - Acurácia: {epoch_accuracy:.2f}%\")"
   ]
  },
  {
   "cell_type": "code",
   "execution_count": 6,
   "metadata": {},
   "outputs": [
    {
     "name": "stdout",
     "output_type": "stream",
     "text": [
      "Loss de validação: 0.2749\n",
      "Acurácia de validação: 90.03%\n"
     ]
    }
   ],
   "source": [
    "import torch\n",
    "from torch.utils.data import DataLoader\n",
    "\n",
    "# Função de avaliação\n",
    "def evaluate(model, val_loader, criterion, device):\n",
    "    model.eval()  # Coloca o modelo em modo de avaliação (sem gradientes)\n",
    "    running_loss = 0.0\n",
    "    correct = 0\n",
    "    total = 0\n",
    "    \n",
    "    with torch.no_grad():  # Não calcular os gradientes durante a validação\n",
    "        for images, labels in val_loader:\n",
    "            images, labels = images.to(device), labels.to(device)\n",
    "            \n",
    "            outputs = model(images)\n",
    "            loss = criterion(outputs, labels)\n",
    "            \n",
    "            running_loss += loss.item()\n",
    "            _, predicted = torch.max(outputs, 1)\n",
    "            total += labels.size(0)\n",
    "            correct += (predicted == labels).sum().item()\n",
    "    \n",
    "    # Média da perda e acurácia\n",
    "    val_loss = running_loss / len(val_loader)\n",
    "    val_accuracy = correct / total * 100\n",
    "    \n",
    "    return val_loss, val_accuracy\n",
    "\n",
    "# Testando com os dados de validação após o treinamento\n",
    "val_loss, val_accuracy = evaluate(model, val_loader, criterion, device)\n",
    "\n",
    "print(f'Loss de validação: {val_loss:.4f}')\n",
    "print(f'Acurácia de validação: {val_accuracy:.2f}%')\n"
   ]
  },
  {
   "cell_type": "code",
   "execution_count": 8,
   "metadata": {},
   "outputs": [
    {
     "data": {
      "text/plain": [
       "'cnn_model.png'"
      ]
     },
     "execution_count": 8,
     "metadata": {},
     "output_type": "execute_result"
    }
   ],
   "source": [
    "from torchviz import make_dot\n",
    "import torch\n",
    "\n",
    "# Definindo uma entrada fictícia para passar pelo modelo (a entrada deve ter o formato correto)\n",
    "x = torch.randn(1, 3, 128, 128).to(device)  # 1 imagem com 3 canais (RGB) e 128x128 pixels\n",
    "\n",
    "# Passando a entrada pela rede para gerar o gráfico\n",
    "y = model(x)\n",
    "\n",
    "# Gerando o gráfico visual\n",
    "make_dot(y, params=dict(model.named_parameters())).render(\"cnn_model\", format=\"png\")\n",
    "\n",
    "# Isso irá gerar o arquivo 'cnn_model.png' na pasta do seu projeto\n"
   ]
  }
 ],
 "metadata": {
  "kernelspec": {
   "display_name": "Python 3",
   "language": "python",
   "name": "python3"
  },
  "language_info": {
   "codemirror_mode": {
    "name": "ipython",
    "version": 3
   },
   "file_extension": ".py",
   "mimetype": "text/x-python",
   "name": "python",
   "nbconvert_exporter": "python",
   "pygments_lexer": "ipython3",
   "version": "3.10.12"
  }
 },
 "nbformat": 4,
 "nbformat_minor": 2
}
