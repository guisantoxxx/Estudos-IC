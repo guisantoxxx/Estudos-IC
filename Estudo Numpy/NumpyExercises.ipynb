{
 "cells": [
  {
   "cell_type": "markdown",
   "metadata": {},
   "source": [
    "##### 1. Import numpy as np and see the version\n",
    "Difficulty Level: L1\n",
    "\n",
    "    Q. Import numpy as np and print the version number."
   ]
  },
  {
   "cell_type": "code",
   "execution_count": 56,
   "metadata": {},
   "outputs": [
    {
     "data": {
      "text/plain": [
       "'1.26.4'"
      ]
     },
     "execution_count": 56,
     "metadata": {},
     "output_type": "execute_result"
    }
   ],
   "source": [
    "import numpy as np\n",
    "\n",
    "np.__version__"
   ]
  },
  {
   "cell_type": "markdown",
   "metadata": {},
   "source": [
    "##### 2. How to create a 1D array?\n",
    "Difficulty Level: L1\n",
    "\n",
    "    Q. Create a 1D array of numbers from 0 to 9\n",
    "\n",
    "    Desired output:\n",
    "\n",
    "    #> array([0, 1, 2, 3, 4, 5, 6, 7, 8, 9])"
   ]
  },
  {
   "cell_type": "code",
   "execution_count": 57,
   "metadata": {},
   "outputs": [
    {
     "data": {
      "text/plain": [
       "array([0, 1, 2, 3, 4, 5, 6, 7, 8, 9])"
      ]
     },
     "execution_count": 57,
     "metadata": {},
     "output_type": "execute_result"
    }
   ],
   "source": [
    "a = np.arange(10)\n",
    "\n",
    "a"
   ]
  },
  {
   "cell_type": "markdown",
   "metadata": {},
   "source": [
    "##### 3. How to create a boolean array?\n",
    "    Difficulty Level: L1\n",
    "\n",
    "    Q. Create a 3×3 numpy array of all True’s"
   ]
  },
  {
   "cell_type": "code",
   "execution_count": 58,
   "metadata": {},
   "outputs": [
    {
     "data": {
      "text/plain": [
       "array([[ True,  True,  True],\n",
       "       [ True,  True,  True],\n",
       "       [ True,  True,  True]])"
      ]
     },
     "execution_count": 58,
     "metadata": {},
     "output_type": "execute_result"
    }
   ],
   "source": [
    "# Boa pratica definir o tipo dos valores\n",
    "a = np.full((3,3), True, dtype=bool)\n",
    "\n",
    "a"
   ]
  },
  {
   "cell_type": "markdown",
   "metadata": {},
   "source": [
    "##### 4. How to extract items that satisfy a given condition from 1D array?\n",
    "Difficulty Level: L1\n",
    "\n",
    "    Q. Extract all odd numbers from arr\n",
    "\n",
    "    Input:\n",
    "\n",
    "    arr = np.array([0, 1, 2, 3, 4, 5, 6, 7, 8, 9])\n",
    "\n",
    "    Desired output:\n",
    "\n",
    "    #> array([1, 3, 5, 7, 9])"
   ]
  },
  {
   "cell_type": "code",
   "execution_count": 59,
   "metadata": {},
   "outputs": [
    {
     "data": {
      "text/plain": [
       "array([1, 3, 5, 7, 9])"
      ]
     },
     "execution_count": 59,
     "metadata": {},
     "output_type": "execute_result"
    }
   ],
   "source": [
    "arr = np.array([0, 1, 2, 3, 4, 5, 6, 7, 8, 9])\n",
    "\n",
    "arr[arr % 2 == 1]"
   ]
  },
  {
   "cell_type": "markdown",
   "metadata": {},
   "source": [
    "##### 5. How to replace items that satisfy a condition with another value in numpy array?\n",
    "Difficulty Level: L1\n",
    "\n",
    "    Q. Replace all odd numbers in arr with -1\n",
    "\n",
    "    Input:\n",
    "\n",
    "    arr = np.array([0, 1, 2, 3, 4, 5, 6, 7, 8, 9])\n",
    "    Desired Output:\n",
    "\n",
    "    #>  array([ 0, -1,  2, -1,  4, -1,  6, -1,  8, -1])"
   ]
  },
  {
   "cell_type": "code",
   "execution_count": 60,
   "metadata": {},
   "outputs": [
    {
     "data": {
      "text/plain": [
       "array([ 0, -1,  2, -1,  4, -1,  6, -1,  8, -1])"
      ]
     },
     "execution_count": 60,
     "metadata": {},
     "output_type": "execute_result"
    }
   ],
   "source": [
    "arr = np.array([0, 1, 2, 3, 4, 5, 6, 7, 8, 9])\n",
    "\n",
    "arr[arr % 2 == 1] = -1\n",
    "\n",
    "arr"
   ]
  },
  {
   "cell_type": "markdown",
   "metadata": {},
   "source": [
    "##### 6. How to replace items that satisfy a condition without affecting the original array?\n",
    "    Difficulty Level: L2\n",
    "\n",
    "    Q. Replace all odd numbers in arr with -1 without changing arr\n",
    "\n",
    "    Input:\n",
    "\n",
    "    arr = np.array([0, 1, 2, 3, 4, 5, 6, 7, 8, 9])\n",
    "    Desired Output:\n",
    "\n",
    "    out\n",
    "    #>  array([ 0, -1,  2, -1,  4, -1,  6, -1,  8, -1])\n",
    "    arr\n",
    "    #>  array([0, 1, 2, 3, 4, 5, 6, 7, 8, 9])"
   ]
  },
  {
   "cell_type": "code",
   "execution_count": 61,
   "metadata": {},
   "outputs": [
    {
     "name": "stdout",
     "output_type": "stream",
     "text": [
      "[ 0 -1  2 -1  4 -1  6 -1  8 -1]\n"
     ]
    },
    {
     "data": {
      "text/plain": [
       "array([0, 1, 2, 3, 4, 5, 6, 7, 8, 9])"
      ]
     },
     "execution_count": 61,
     "metadata": {},
     "output_type": "execute_result"
    }
   ],
   "source": [
    "arr = np.array([0, 1, 2, 3, 4, 5, 6, 7, 8, 9])\n",
    "\n",
    "# Where basicamente executa uma condição de busca em um array\n",
    "# Pode também alterar valores no retorno\n",
    "# Condição, valor a ser trocado e array original\n",
    "out = np.where(arr % 2 == 1, -1, arr)\n",
    "\n",
    "print(out)\n",
    "\n",
    "arr"
   ]
  },
  {
   "cell_type": "markdown",
   "metadata": {},
   "source": [
    "##### 7. How to reshape an array?\n",
    "    Difficulty Level: L1\n",
    "\n",
    "    Q. Convert a 1D array to a 2D array with 2 rows\n",
    "\n",
    "    Input:\n",
    "\n",
    "    np.arange(10)\n",
    "\n",
    "    #> array([ 0, 1, 2, 3, 4, 5, 6, 7, 8, 9])\n",
    "    Desired Output:\n",
    "\n",
    "    #> array([[0, 1, 2, 3, 4],\n",
    "    #>        [5, 6, 7, 8, 9]])"
   ]
  },
  {
   "cell_type": "code",
   "execution_count": 62,
   "metadata": {},
   "outputs": [
    {
     "data": {
      "text/plain": [
       "array([[0, 1, 2, 3, 4],\n",
       "       [5, 6, 7, 8, 9]])"
      ]
     },
     "execution_count": 62,
     "metadata": {},
     "output_type": "execute_result"
    }
   ],
   "source": [
    "arr = np.arange(10)\n",
    "\n",
    "arr = arr.reshape((2,5))\n",
    "\n",
    "arr"
   ]
  },
  {
   "cell_type": "markdown",
   "metadata": {},
   "source": [
    "* Outra solução <br><br>\n",
    "Definir a coluna como -1 automaticamente seleciona o número de colunas com base no número de linhas, o mesmo é valido para linha com valor -1"
   ]
  },
  {
   "cell_type": "code",
   "execution_count": 63,
   "metadata": {},
   "outputs": [
    {
     "data": {
      "text/plain": [
       "array([[0, 1, 2, 3, 4],\n",
       "       [5, 6, 7, 8, 9]])"
      ]
     },
     "execution_count": 63,
     "metadata": {},
     "output_type": "execute_result"
    }
   ],
   "source": [
    "arr = np.arange(10)\n",
    "\n",
    "arr = arr.reshape((2, -1))\n",
    "\n",
    "arr"
   ]
  },
  {
   "cell_type": "markdown",
   "metadata": {},
   "source": [
    "##### 8. How to stack two arrays vertically?\n",
    "    Difficulty Level: L2\n",
    "\n",
    "    Q. Stack arrays a and b vertically\n",
    "\n",
    "    Input\n",
    "\n",
    "    a = np.arange(10).reshape(2,-1)\n",
    "    b = np.repeat(1, 10).reshape(2,-1)\n",
    "    Desired Output:\n",
    "\n",
    "    #> array([[0, 1, 2, 3, 4],\n",
    "    #>        [5, 6, 7, 8, 9],\n",
    "    #>        [1, 1, 1, 1, 1],\n",
    "    #>        [1, 1, 1, 1, 1]])"
   ]
  },
  {
   "cell_type": "code",
   "execution_count": 64,
   "metadata": {},
   "outputs": [
    {
     "data": {
      "text/plain": [
       "array([[0, 1, 2, 3, 4],\n",
       "       [5, 6, 7, 8, 9],\n",
       "       [1, 1, 1, 1, 1],\n",
       "       [1, 1, 1, 1, 1]])"
      ]
     },
     "execution_count": 64,
     "metadata": {},
     "output_type": "execute_result"
    }
   ],
   "source": [
    "a = np.arange(10).reshape(2, -1)\n",
    "b = np.repeat(1, 10).reshape(2, -1)\n",
    "\n",
    "# np.vstack recebe uma lista de arrays como parametro\n",
    "arr = np.vstack([a,b])\n",
    "\n",
    "arr"
   ]
  },
  {
   "cell_type": "markdown",
   "metadata": {},
   "source": [
    "##### Difficulty Level: L2\n",
    "\n",
    "    Q. Stack the arrays a and b horizontally.\n",
    "\n",
    "    Input\n",
    "\n",
    "    a = np.arange(10).reshape(2,-1)\n",
    "\n",
    "    b = np.repeat(1, 10).reshape(2,-1)\n",
    "    Desired Output:\n",
    "\n",
    "    #> array([[0, 1, 2, 3, 4, 1, 1, 1, 1, 1],\n",
    "    #>        [5, 6, 7, 8, 9, 1, 1, 1, 1, 1]])"
   ]
  },
  {
   "cell_type": "code",
   "execution_count": 65,
   "metadata": {},
   "outputs": [
    {
     "data": {
      "text/plain": [
       "array([[0, 1, 2, 3, 4, 1, 1, 1, 1, 1],\n",
       "       [5, 6, 7, 8, 9, 1, 1, 1, 1, 1]])"
      ]
     },
     "execution_count": 65,
     "metadata": {},
     "output_type": "execute_result"
    }
   ],
   "source": [
    "a = np.arange(10).reshape(2, -1)\n",
    "\n",
    "b = np.repeat(1, 10).reshape(2, -1)\n",
    "\n",
    "arr = np.hstack([a,b])\n",
    "\n",
    "arr"
   ]
  },
  {
   "cell_type": "markdown",
   "metadata": {},
   "source": [
    "##### 10. How to generate custom sequences in numpy without hardcoding?\n",
    "    Difficulty Level: L2\n",
    "\n",
    "    Q. Create the following pattern without hardcoding. Use only numpy functions and the below input array a.\n",
    "\n",
    "    Input:\n",
    "\n",
    "    a = np.array([1,2,3])`\n",
    "    Desired Output:\n",
    "\n",
    "    #> array([1, 1, 1, 2, 2, 2, 3, 3, 3, 1, 2, 3, 1, 2, 3, 1, 2, 3])"
   ]
  },
  {
   "cell_type": "code",
   "execution_count": 66,
   "metadata": {},
   "outputs": [
    {
     "data": {
      "text/plain": [
       "array([1, 1, 1, 2, 2, 2, 3, 3, 3, 1, 2, 3, 1, 2, 3, 1, 2, 3])"
      ]
     },
     "execution_count": 66,
     "metadata": {},
     "output_type": "execute_result"
    }
   ],
   "source": [
    "a = np.array([1,2,3])\n",
    "\n",
    "np.r_[np.repeat(a, 3), np.tile(a, 3)]"
   ]
  },
  {
   "cell_type": "markdown",
   "metadata": {},
   "source": [
    "* np.r_ é uma maneira de concatenar arrays em numpy. Nessa caso, np.repeat está repetindo cada elemento de a 3 vezes, enquanto np.tile repete a como um todo 3 vezes"
   ]
  },
  {
   "cell_type": "markdown",
   "metadata": {},
   "source": [
    "##### 11. How to get the common items between two python numpy arrays?\n",
    "    Difficulty Level: L2\n",
    "\n",
    "    Q. Get the common items between a and b\n",
    "\n",
    "    Input:\n",
    "\n",
    "    a = np.array([1,2,3,2,3,4,3,4,5,6])\n",
    "    b = np.array([7,2,10,2,7,4,9,4,9,8])\n",
    "    Desired Output:\n",
    "\n",
    "    array([2, 4])\n"
   ]
  },
  {
   "cell_type": "code",
   "execution_count": 67,
   "metadata": {},
   "outputs": [
    {
     "data": {
      "text/plain": [
       "array([2, 4])"
      ]
     },
     "execution_count": 67,
     "metadata": {},
     "output_type": "execute_result"
    }
   ],
   "source": [
    "a = np.array([1, 2, 3, 2, 3, 4, 3, 4, 5, 6])\n",
    "b = np.array([7, 2, 10, 2, 7, 4, 9, 4, 9, 8])\n",
    "\n",
    "# A função intersect1d recupera elementos em comum a dois arrays\n",
    "np.intersect1d(a,b)"
   ]
  },
  {
   "cell_type": "markdown",
   "metadata": {},
   "source": [
    "##### 12. How to remove from one array those items that exist in another?\n",
    "    Difficulty Level: L2\n",
    "\n",
    "    Q. From array a remove all items present in array b\n",
    "\n",
    "    Input:\n",
    "\n",
    "    a = np.array([1,2,3,4,5])\n",
    "    b = np.array([5,6,7,8,9])\n",
    "    Desired Output:\n",
    "\n",
    "    array([1,2,3,4])"
   ]
  },
  {
   "cell_type": "code",
   "execution_count": 68,
   "metadata": {},
   "outputs": [
    {
     "data": {
      "text/plain": [
       "array([1, 2, 3, 4])"
      ]
     },
     "execution_count": 68,
     "metadata": {},
     "output_type": "execute_result"
    }
   ],
   "source": [
    "a = np.array([1, 2, 3, 4, 5])\n",
    "b = np.array([5, 6, 7, 8, 9])\n",
    "\n",
    "# A função setdiff1d remove todos os elementos de a que estão presentes em b\n",
    "np.setdiff1d(a,b)"
   ]
  },
  {
   "cell_type": "markdown",
   "metadata": {},
   "source": [
    "##### 13. How to get the positions where elements of two arrays match?\n",
    "    Difficulty Level: L2\n",
    "\n",
    "    Q. Get the positions where elements of a and b match\n",
    "\n",
    "    Input:\n",
    "\n",
    "    a = np.array([1,2,3,2,3,4,3,4,5,6])\n",
    "    b = np.array([7,2,10,2,7,4,9,4,9,8])\n",
    "    Desired Output:\n",
    "\n",
    "    #> (array([1, 3, 5, 7]),)"
   ]
  },
  {
   "cell_type": "code",
   "execution_count": 69,
   "metadata": {},
   "outputs": [
    {
     "data": {
      "text/plain": [
       "(array([1, 3, 5, 7]),)"
      ]
     },
     "execution_count": 69,
     "metadata": {},
     "output_type": "execute_result"
    }
   ],
   "source": [
    "a = np.array([1, 2, 3, 2, 3, 4, 3, 4, 5, 6])\n",
    "b = np.array([7, 2, 10, 2, 7, 4, 9, 4, 9, 8])\n",
    "\n",
    "# Novamente, usa-se o where, pois funciona como uma consulta no array\n",
    "np.where(a == b)"
   ]
  },
  {
   "cell_type": "markdown",
   "metadata": {},
   "source": [
    "##### 14. How to extract all numbers between a given range from a numpy array?\n",
    "    Difficulty Level: L2\n",
    "\n",
    "    Q. Get all items between 5 and 10 from a.\n",
    "\n",
    "    Input:\n",
    "\n",
    "    a = np.array([2, 6, 1, 9, 10, 3, 27])\n",
    "    Desired Output:\n",
    "\n",
    "    (array([6, 9, 10]),)"
   ]
  },
  {
   "cell_type": "code",
   "execution_count": 70,
   "metadata": {},
   "outputs": [
    {
     "data": {
      "text/plain": [
       "array([ 6,  9, 10])"
      ]
     },
     "execution_count": 70,
     "metadata": {},
     "output_type": "execute_result"
    }
   ],
   "source": [
    "a = np.array([2, 6, 1, 9, 10, 3, 27])\n",
    "\n",
    "index = np.where((a >= 5) & (a <= 10))\n",
    "\n",
    "a[index]"
   ]
  },
  {
   "cell_type": "markdown",
   "metadata": {},
   "source": [
    "* Nesse caso, usa-se np.where para recuperar os indices que cumprem essa condicao. Depois aplica-se os indices à a"
   ]
  },
  {
   "cell_type": "markdown",
   "metadata": {},
   "source": [
    "##### 15. How to make a python function that handles scalars to work on numpy arrays?\n",
    "    Difficulty Level: L2\n",
    "\n",
    "    Q. Convert the function maxx that works on two scalars, to work on two arrays.\n",
    "\n",
    "    Input:\n",
    "\n",
    "    def maxx(x, y):\n",
    "        \"\"\"Get the maximum of two items\"\"\"\n",
    "        if x >= y:\n",
    "            return x\n",
    "        else:\n",
    "            return y\n",
    "\n",
    "    maxx(1, 5)\n",
    "    #> 5\n",
    "    Desired Output:\n",
    "\n",
    "    a = np.array([5, 7, 9, 8, 6, 4, 5])\n",
    "    b = np.array([6, 3, 4, 8, 9, 7, 1])\n",
    "    pair_max(a, b)\n",
    "    #> array([ 6.,  7.,  9.,  8.,  9.,  7.,  5.])"
   ]
  },
  {
   "cell_type": "code",
   "execution_count": 71,
   "metadata": {},
   "outputs": [
    {
     "data": {
      "text/plain": [
       "array([6., 7., 9., 8., 9., 7., 5.])"
      ]
     },
     "execution_count": 71,
     "metadata": {},
     "output_type": "execute_result"
    }
   ],
   "source": [
    "def maxx(x, y):\n",
    "    if x >= y:\n",
    "        return x\n",
    "    else:\n",
    "        return y\n",
    "\n",
    "\n",
    "# np.vectorize transforma funções que aplicam sobre um único valor em funções que podem aplicar sobre arrays\n",
    "# São passados como parâmetros: a função a ser vetorizada e o tipod e saida da função\n",
    "# Nesse caso, paix_max agora é uma função que pode lidar com vetores np\n",
    "pair_max = np.vectorize(maxx, otypes=[float])\n",
    "\n",
    "a = np.array([5, 7, 9, 8, 6, 4, 5])\n",
    "b = np.array([6, 3, 4, 8, 9, 7, 1])\n",
    "\n",
    "pair_max(a, b)"
   ]
  },
  {
   "cell_type": "markdown",
   "metadata": {},
   "source": [
    "##### Difficulty Level: L2\n",
    "\n",
    "    Q. Swap columns 1 and 2 in the array arr.\n",
    "\n",
    "    arr = np.arange(9).reshape(3,3)\n",
    "    arr"
   ]
  },
  {
   "cell_type": "code",
   "execution_count": 72,
   "metadata": {},
   "outputs": [
    {
     "data": {
      "text/plain": [
       "array([[0, 2, 1],\n",
       "       [3, 5, 4],\n",
       "       [6, 8, 7]])"
      ]
     },
     "execution_count": 72,
     "metadata": {},
     "output_type": "execute_result"
    }
   ],
   "source": [
    "arr = np.arange(9).reshape(3, 3)\n",
    "\n",
    "arr[:, [0, 2, 1]]"
   ]
  },
  {
   "cell_type": "markdown",
   "metadata": {},
   "source": [
    "##### 17. How to swap two rows in a 2d numpy array?\n",
    "    Difficulty Level: L2\n",
    "\n",
    "    Q. Swap rows 1 and 2 in the array arr:\n",
    "\n",
    "    arr = np.arange(9).reshape(3,3)\n",
    "    arr"
   ]
  },
  {
   "cell_type": "code",
   "execution_count": 73,
   "metadata": {},
   "outputs": [
    {
     "data": {
      "text/plain": [
       "array([[0, 1, 2],\n",
       "       [6, 7, 8],\n",
       "       [3, 4, 5]])"
      ]
     },
     "execution_count": 73,
     "metadata": {},
     "output_type": "execute_result"
    }
   ],
   "source": [
    "arr = np.arange(9).reshape(3, 3)\n",
    "\n",
    "arr[[0,2,1],:]"
   ]
  },
  {
   "cell_type": "markdown",
   "metadata": {},
   "source": [
    "##### 18. How to reverse the rows of a 2D array?\n",
    "    Difficulty Level: L2\n",
    "\n",
    "    Q. Reverse the rows of a 2D array arr.\n",
    "\n",
    "    # Input\n",
    "    arr = np.arange(9).reshape(3,3)"
   ]
  },
  {
   "cell_type": "code",
   "execution_count": 74,
   "metadata": {},
   "outputs": [
    {
     "data": {
      "text/plain": [
       "array([[6, 7, 8],\n",
       "       [3, 4, 5],\n",
       "       [0, 1, 2]])"
      ]
     },
     "execution_count": 74,
     "metadata": {},
     "output_type": "execute_result"
    }
   ],
   "source": [
    "arr = np.arange(9).reshape(3, 3)\n",
    "\n",
    "# Usando o passo como -1, indo de trás pra frente\n",
    "arr[::-1,:]"
   ]
  },
  {
   "cell_type": "markdown",
   "metadata": {},
   "source": [
    "##### 19. How to reverse the columns of a 2D array?\n",
    "    Difficulty Level: L2\n",
    "\n",
    "    Q. Reverse the columns of a 2D array arr.\n",
    "\n",
    "    # Input\n",
    "    arr = np.arange(9).reshape(3,3)"
   ]
  },
  {
   "cell_type": "code",
   "execution_count": 75,
   "metadata": {},
   "outputs": [
    {
     "data": {
      "text/plain": [
       "array([[2, 1, 0],\n",
       "       [5, 4, 3],\n",
       "       [8, 7, 6]])"
      ]
     },
     "execution_count": 75,
     "metadata": {},
     "output_type": "execute_result"
    }
   ],
   "source": [
    "arr = np.arange(9).reshape(3, 3)\n",
    "\n",
    "arr[:, ::-1]"
   ]
  },
  {
   "cell_type": "markdown",
   "metadata": {},
   "source": [
    "##### 20. How to create a 2D array containing random floats between 5 and 10?\n",
    "  Difficulty Level: L2\n",
    "\n",
    "  Q. Create a 2D array of shape 5x3 to contain random decimal numbers between 5 and 10"
   ]
  },
  {
   "cell_type": "code",
   "execution_count": 76,
   "metadata": {},
   "outputs": [
    {
     "data": {
      "text/plain": [
       "array([[9.325499, 9.151389, 7.690807],\n",
       "       [9.612347, 5.485732, 5.514237],\n",
       "       [8.507536, 9.452399, 5.797802],\n",
       "       [6.377863, 8.362458, 5.821516],\n",
       "       [8.506856, 7.438176, 8.403389]])"
      ]
     },
     "execution_count": 76,
     "metadata": {},
     "output_type": "execute_result"
    }
   ],
   "source": [
    "# np.random.uniform recebe 3 parametros: minimo, maximo e tamanho do vetor, a sua forma\n",
    "np.random.uniform(5,10,size=(5,3))"
   ]
  },
  {
   "cell_type": "markdown",
   "metadata": {},
   "source": [
    "##### 21. How to print only 3 decimal places in python numpy array?\n",
    "    Difficulty Level: L1\n",
    "\n",
    "    Q. Print or show only 3 decimal places of the numpy array rand_arr.\n",
    "\n",
    "    Input:\n",
    "\n",
    "    rand_arr = np.random.random((5,3))"
   ]
  },
  {
   "cell_type": "code",
   "execution_count": 77,
   "metadata": {},
   "outputs": [
    {
     "data": {
      "text/plain": [
       "array([[0.522, 0.043, 0.224],\n",
       "       [0.575, 0.12 , 0.5  ],\n",
       "       [0.138, 0.053, 0.178],\n",
       "       [0.442, 0.878, 0.949],\n",
       "       [0.478, 0.461, 0.637]])"
      ]
     },
     "execution_count": 77,
     "metadata": {},
     "output_type": "execute_result"
    }
   ],
   "source": [
    "rand_arr = np.random.random((5, 3))\n",
    "\n",
    "# usando np.set_printoptions, é possível definir as opcções do printo do array\n",
    "# nesse caso,e stá definido com uma precisão de  casas decimais\n",
    "\n",
    "np.set_printoptions(precision=3)\n",
    "\n",
    "rand_arr"
   ]
  },
  {
   "cell_type": "markdown",
   "metadata": {},
   "source": [
    "##### 22. How to pretty print a numpy array by suppressing the scientific notation (like 1e10)?\n",
    "    Difficulty Level: L1\n",
    "\n",
    "    Q. Pretty print rand_arr by suppressing the scientific notation (like 1e10)\n",
    "\n",
    "    Input:\n",
    "\n",
    "    # Create the random array\n",
    "    np.random.seed(100)\n",
    "    rand_arr = np.random.random([3,3])/1e3\n",
    "    rand_arr\n",
    "\n",
    "    #> array([[  5.434049e-04,   2.783694e-04,   4.245176e-04],\n",
    "    #>        [  8.447761e-04,   4.718856e-06,   1.215691e-04],\n",
    "    #>        [  6.707491e-04,   8.258528e-04,   1.367066e-04]])\n",
    "    Desired Output:\n",
    "\n",
    "    #> array([[ 0.000543,  0.000278,  0.000425],\n",
    "    #>        [ 0.000845,  0.000005,  0.000122],\n",
    "    #>        [ 0.000671,  0.000826,  0.000137]])"
   ]
  },
  {
   "cell_type": "code",
   "execution_count": 78,
   "metadata": {},
   "outputs": [
    {
     "data": {
      "text/plain": [
       "array([[0.000543, 0.000278, 0.000425],\n",
       "       [0.000845, 0.000005, 0.000122],\n",
       "       [0.000671, 0.000826, 0.000137]])"
      ]
     },
     "execution_count": 78,
     "metadata": {},
     "output_type": "execute_result"
    }
   ],
   "source": [
    "np.set_printoptions(suppress=False)\n",
    "np.random.seed(100)\n",
    "rand_arr = np.random.random([3, 3]) / 1e3\n",
    "\n",
    "# Novamente é alterado no printoptions, deixando supress como True\n",
    "np.set_printoptions(suppress=True, precision=6)  # precision is optional\n",
    "rand_arr"
   ]
  },
  {
   "cell_type": "markdown",
   "metadata": {},
   "source": [
    "##### 23. How to limit the number of items printed in output of numpy array?\n",
    "    Difficulty Level: L1\n",
    "\n",
    "    Q. Limit the number of items printed in python numpy array a to a maximum of 6 elements.\n",
    "\n",
    "    Input:\n",
    "\n",
    "    a = np.arange(15)\n",
    "    #> array([ 0,  1,  2,  3,  4,  5,  6,  7,  8,  9, 10, 11, 12, 13, 14])\n",
    "    Desired Output:\n",
    "\n",
    "    #> array([ 0,  1,  2, ..., 12, 13, 14])"
   ]
  },
  {
   "cell_type": "code",
   "execution_count": 79,
   "metadata": {},
   "outputs": [
    {
     "data": {
      "text/plain": [
       "array([ 0,  1,  2, ..., 12, 13, 14])"
      ]
     },
     "execution_count": 79,
     "metadata": {},
     "output_type": "execute_result"
    }
   ],
   "source": [
    "# Definir em printoptions para no máximo 6 elementos, isso está localizado em treshold\n",
    "np.set_printoptions(threshold=6)\n",
    "a = np.arange(15)\n",
    "a"
   ]
  },
  {
   "cell_type": "markdown",
   "metadata": {},
   "source": [
    "##### 24. How to print the full numpy array without truncating\n",
    "    Difficulty Level: L1\n",
    "\n",
    "    Q. Print the full numpy array a without truncating.\n",
    "\n",
    "    Input:\n",
    "\n",
    "    np.set_printoptions(threshold=6)\n",
    "    a = np.arange(15)\n",
    "    a\n",
    "    #> array([ 0,  1,  2, ..., 12, 13, 14])\n",
    "    Desired Output:\n",
    "\n",
    "    a\n",
    "    #> array([ 0,  1,  2,  3,  4,  5,  6,  7,  8,  9, 10, 11, 12, 13, 14])"
   ]
  },
  {
   "cell_type": "code",
   "execution_count": 80,
   "metadata": {},
   "outputs": [
    {
     "data": {
      "text/plain": [
       "array([ 0,  1,  2,  3,  4,  5,  6,  7,  8,  9, 10, 11, 12, 13, 14])"
      ]
     },
     "execution_count": 80,
     "metadata": {},
     "output_type": "execute_result"
    }
   ],
   "source": [
    "import sys\n",
    "\n",
    "np.set_printoptions(threshold=6)\n",
    "a = np.arange(15)\n",
    "\n",
    "# Para mostrar todos os elementos, é necessário definir treshold como sys.maxsize\n",
    "np.set_printoptions(threshold= sys.maxsize)\n",
    "a"
   ]
  },
  {
   "cell_type": "markdown",
   "metadata": {},
   "source": [
    "##### 25. How to import a dataset with numbers and texts keeping the text intact in python numpy?\n",
    "    Difficulty Level: L2\n",
    "\n",
    "    Q. Import the iris dataset keeping the text intact."
   ]
  },
  {
   "cell_type": "code",
   "execution_count": 81,
   "metadata": {},
   "outputs": [
    {
     "data": {
      "text/plain": [
       "array([[b'5.1', b'3.5', b'1.4', b'0.2', b'Iris-setosa'],\n",
       "       [b'4.9', b'3.0', b'1.4', b'0.2', b'Iris-setosa'],\n",
       "       [b'4.7', b'3.2', b'1.3', b'0.2', b'Iris-setosa'],\n",
       "       [b'4.6', b'3.1', b'1.5', b'0.2', b'Iris-setosa'],\n",
       "       [b'5.0', b'3.6', b'1.4', b'0.2', b'Iris-setosa']], dtype=object)"
      ]
     },
     "execution_count": 81,
     "metadata": {},
     "output_type": "execute_result"
    }
   ],
   "source": [
    "# armazena a url do dataset\n",
    "url = \"https://archive.ics.uci.edu/ml/machine-learning-databases/iris/iris.data\"\n",
    "\n",
    "# obtem os dados a partir da url, definindo como separador a virgula , que separa as amostras no dataset\n",
    "# É preciso setar o tipo como objeto para poder recuperar o texto, caso contrário ele só recupera os números\n",
    "iris = np.genfromtxt(url, delimiter=\",\", dtype=\"object\")\n",
    "names = (\"sepallength\", \"sepalwidth\", \"petallength\", \"petalwidth\", \"species\")\n",
    "\n",
    "\n",
    "iris[:5, :]"
   ]
  },
  {
   "cell_type": "markdown",
   "metadata": {},
   "source": []
  },
  {
   "cell_type": "markdown",
   "metadata": {},
   "source": [
    "##### 26. How to extract a particular column from 1D array of tuples?\n",
    "    Difficulty Level: L2\n",
    "\n",
    "    Q. Extract the text column species from the 1D iris imported in previous question"
   ]
  },
  {
   "cell_type": "code",
   "execution_count": 82,
   "metadata": {},
   "outputs": [
    {
     "name": "stderr",
     "output_type": "stream",
     "text": [
      "/tmp/ipykernel_27882/2986695082.py:2: VisibleDeprecationWarning: Reading unicode strings without specifying the encoding argument is deprecated. Set the encoding, use None for the system default.\n",
      "  iris_1d = np.genfromtxt(url, delimiter=\",\", dtype=None)\n"
     ]
    },
    {
     "data": {
      "text/plain": [
       "array([b'Iris-setosa', b'Iris-setosa', b'Iris-setosa', b'Iris-setosa',\n",
       "       b'Iris-setosa'], dtype='|S15')"
      ]
     },
     "execution_count": 82,
     "metadata": {},
     "output_type": "execute_result"
    }
   ],
   "source": [
    "url = \"https://archive.ics.uci.edu/ml/machine-learning-databases/iris/iris.data\"\n",
    "iris_1d = np.genfromtxt(url, delimiter=\",\", dtype=None)\n",
    "\n",
    "# itera sobre cada linha do array iris_1d\n",
    "# recuperando a quarta coluna de cada linha\n",
    "species = np.array([row[4] for row in iris_1d])\n",
    "\n",
    "species[0:5]"
   ]
  },
  {
   "cell_type": "markdown",
   "metadata": {},
   "source": [
    "##### 27. How to convert a 1d array of tuples to a 2d numpy array?\n",
    "    Difficulty Level: L2\n",
    "\n",
    "    Q. Convert the 1D iris to 2D array iris_2d by omitting the species text field.\n",
    "\n",
    "    Input:\n",
    "\n",
    "    url = 'https://archive.ics.uci.edu/ml/machine-learning-databases/iris/iris.data'\n",
    "    iris_1d = np.genfromtxt(url, delimiter=',', dtype=None)"
   ]
  },
  {
   "cell_type": "code",
   "execution_count": 83,
   "metadata": {},
   "outputs": [
    {
     "data": {
      "text/plain": [
       "array([[5.1, 3.5, 1.4, 0.2],\n",
       "       [4.9, 3. , 1.4, 0.2],\n",
       "       [4.7, 3.2, 1.3, 0.2],\n",
       "       [4.6, 3.1, 1.5, 0.2],\n",
       "       [5. , 3.6, 1.4, 0.2]])"
      ]
     },
     "execution_count": 83,
     "metadata": {},
     "output_type": "execute_result"
    }
   ],
   "source": [
    "url = \"https://archive.ics.uci.edu/ml/machine-learning-databases/iris/iris.data\"\n",
    "\n",
    "# Nesse caso, recupera os dados como sendo do tipo float\n",
    "# Por meio do parametro usecols ,somente utiliza as 4 primeiras colunas, excluindo a coluna de nome\n",
    "iris_1d = np.genfromtxt(url, delimiter=\",\", dtype='float', usecols=[0,1,2,3])\n",
    "\n",
    "iris_1d[0:5]"
   ]
  },
  {
   "cell_type": "markdown",
   "metadata": {},
   "source": [
    "##### 28. How to compute the mean, median, standard deviation of a numpy array?\n",
    "    Difficulty: L1\n",
    "\n",
    "    Q. Find the mean, median, standard deviation of iris's sepallength (1st column)\n",
    "\n",
    "    url = 'https://archive.ics.uci.edu/ml/machine-learning-databases/iris/iris.data'\n",
    "    iris = np.genfromtxt(url, delimiter=',', dtype='object')"
   ]
  },
  {
   "cell_type": "code",
   "execution_count": 84,
   "metadata": {},
   "outputs": [
    {
     "name": "stdout",
     "output_type": "stream",
     "text": [
      "Mean: 5.84\n",
      "Median: 5.80\n",
      "Stardard deviation: 0.83\n"
     ]
    }
   ],
   "source": [
    "url = \"https://archive.ics.uci.edu/ml/machine-learning-databases/iris/iris.data\"\n",
    "\n",
    "# Define os dados como float e usa apenas a primeira coluna, coluna desejada\n",
    "sepallength = np.genfromtxt(url, delimiter=\",\", dtype=\"float\", usecols=[0])\n",
    "\n",
    "\n",
    "print(f'Mean: {np.mean(sepallength):.2f}')\n",
    "print(f'Median: {np.median(sepallength):.2f}')\n",
    "print(f'Stardard deviation: {np.std(sepallength):.2f}')"
   ]
  },
  {
   "cell_type": "markdown",
   "metadata": {},
   "source": [
    "##### 29. How to normalize an array so the values range exactly between 0 and 1?\n",
    "    Difficulty: L2\n",
    "\n",
    "    Q. Create a normalized form of iris's sepallength whose values range exactly between 0 and 1 so that the minimum has value 0 and maximum has value 1.\n",
    "\n",
    "    Input:\n",
    "\n",
    "    url = 'https://archive.ics.uci.edu/ml/machine-learning-databases/iris/iris.data'\n",
    "    sepallength = np.genfromtxt(url, delimiter=',', dtype='float', usecols=[0])"
   ]
  },
  {
   "cell_type": "code",
   "execution_count": 85,
   "metadata": {},
   "outputs": [
    {
     "data": {
      "text/plain": [
       "array([0.222222, 0.166667, 0.111111, 0.083333, 0.194444, 0.305556,\n",
       "       0.083333, 0.194444, 0.027778, 0.166667, 0.305556, 0.138889,\n",
       "       0.138889, 0.      , 0.416667, 0.388889, 0.305556, 0.222222,\n",
       "       0.388889, 0.222222, 0.305556, 0.222222, 0.083333, 0.222222,\n",
       "       0.138889, 0.194444, 0.194444, 0.25    , 0.25    , 0.111111,\n",
       "       0.138889, 0.305556, 0.25    , 0.333333, 0.166667, 0.194444,\n",
       "       0.333333, 0.166667, 0.027778, 0.222222, 0.194444, 0.055556,\n",
       "       0.027778, 0.194444, 0.222222, 0.138889, 0.222222, 0.083333,\n",
       "       0.277778, 0.194444, 0.75    , 0.583333, 0.722222, 0.333333,\n",
       "       0.611111, 0.388889, 0.555556, 0.166667, 0.638889, 0.25    ,\n",
       "       0.194444, 0.444444, 0.472222, 0.5     , 0.361111, 0.666667,\n",
       "       0.361111, 0.416667, 0.527778, 0.361111, 0.444444, 0.5     ,\n",
       "       0.555556, 0.5     , 0.583333, 0.638889, 0.694444, 0.666667,\n",
       "       0.472222, 0.388889, 0.333333, 0.333333, 0.416667, 0.472222,\n",
       "       0.305556, 0.472222, 0.666667, 0.555556, 0.361111, 0.333333,\n",
       "       0.333333, 0.5     , 0.416667, 0.194444, 0.361111, 0.388889,\n",
       "       0.388889, 0.527778, 0.222222, 0.388889, 0.555556, 0.416667,\n",
       "       0.777778, 0.555556, 0.611111, 0.916667, 0.166667, 0.833333,\n",
       "       0.666667, 0.805556, 0.611111, 0.583333, 0.694444, 0.388889,\n",
       "       0.416667, 0.583333, 0.611111, 0.944444, 0.944444, 0.472222,\n",
       "       0.722222, 0.361111, 0.944444, 0.555556, 0.666667, 0.805556,\n",
       "       0.527778, 0.5     , 0.583333, 0.805556, 0.861111, 1.      ,\n",
       "       0.583333, 0.555556, 0.5     , 0.944444, 0.555556, 0.583333,\n",
       "       0.472222, 0.722222, 0.666667, 0.722222, 0.416667, 0.694444,\n",
       "       0.666667, 0.666667, 0.555556, 0.611111, 0.527778, 0.444444])"
      ]
     },
     "execution_count": 85,
     "metadata": {},
     "output_type": "execute_result"
    }
   ],
   "source": [
    "url = \"https://archive.ics.uci.edu/ml/machine-learning-databases/iris/iris.data\"\n",
    "sepallength = np.genfromtxt(url, delimiter=\",\", dtype=\"float\", usecols=[0])\n",
    "\n",
    "#Cria uma versão normalizada dos valores\n",
    "Smax, Smin = sepallength.max(), sepallength.min()\n",
    "S = (sepallength - Smin) / (Smax - Smin)\n",
    "\n",
    "S"
   ]
  },
  {
   "cell_type": "markdown",
   "metadata": {},
   "source": [
    "##### 30. How to compute the softmax score?\n",
    "    Difficulty Level: L3\n",
    "\n",
    "    Q. Compute the softmax score of sepallength.\n",
    "\n",
    "    url = 'https://archive.ics.uci.edu/ml/machine-learning-databases/iris/iris.data'\n",
    "    sepallength = np.genfromtxt(url, delimiter=',', dtype='float', usecols=[0])"
   ]
  },
  {
   "cell_type": "code",
   "execution_count": 86,
   "metadata": {},
   "outputs": [
    {
     "data": {
      "text/plain": [
       "array([0.00222 , 0.001817, 0.001488, 0.001346, 0.002008, 0.002996,\n",
       "       0.001346, 0.002008, 0.001102, 0.001817, 0.002996, 0.001644,\n",
       "       0.001644, 0.000997, 0.00447 , 0.004044, 0.002996, 0.00222 ,\n",
       "       0.004044, 0.00222 , 0.002996, 0.00222 , 0.001346, 0.00222 ,\n",
       "       0.001644, 0.002008, 0.002008, 0.002453, 0.002453, 0.001488,\n",
       "       0.001644, 0.002996, 0.002453, 0.003311, 0.001817, 0.002008,\n",
       "       0.003311, 0.001817, 0.001102, 0.00222 , 0.002008, 0.001218,\n",
       "       0.001102, 0.002008, 0.00222 , 0.001644, 0.00222 , 0.001346,\n",
       "       0.002711, 0.002008, 0.01484 , 0.008144, 0.013428, 0.003311,\n",
       "       0.009001, 0.004044, 0.007369, 0.001817, 0.009947, 0.002453,\n",
       "       0.002008, 0.00494 , 0.005459, 0.006033, 0.003659, 0.010994,\n",
       "       0.003659, 0.00447 , 0.006668, 0.003659, 0.00494 , 0.006033,\n",
       "       0.007369, 0.006033, 0.008144, 0.009947, 0.01215 , 0.010994,\n",
       "       0.005459, 0.004044, 0.003311, 0.003311, 0.00447 , 0.005459,\n",
       "       0.002996, 0.005459, 0.010994, 0.007369, 0.003659, 0.003311,\n",
       "       0.003311, 0.006033, 0.00447 , 0.002008, 0.003659, 0.004044,\n",
       "       0.004044, 0.006668, 0.00222 , 0.004044, 0.007369, 0.00447 ,\n",
       "       0.016401, 0.007369, 0.009001, 0.02704 , 0.001817, 0.020032,\n",
       "       0.010994, 0.018126, 0.009001, 0.008144, 0.01215 , 0.004044,\n",
       "       0.00447 , 0.008144, 0.009001, 0.029884, 0.029884, 0.005459,\n",
       "       0.013428, 0.003659, 0.029884, 0.007369, 0.010994, 0.018126,\n",
       "       0.006668, 0.006033, 0.008144, 0.018126, 0.022139, 0.0365  ,\n",
       "       0.008144, 0.007369, 0.006033, 0.029884, 0.007369, 0.008144,\n",
       "       0.005459, 0.013428, 0.010994, 0.013428, 0.00447 , 0.01215 ,\n",
       "       0.010994, 0.010994, 0.007369, 0.009001, 0.006668, 0.00494 ])"
      ]
     },
     "execution_count": 86,
     "metadata": {},
     "output_type": "execute_result"
    }
   ],
   "source": [
    "url = \"https://archive.ics.uci.edu/ml/machine-learning-databases/iris/iris.data\"\n",
    "iris = np.genfromtxt(url, delimiter=\",\", dtype=\"object\")\n",
    "sepallength = np.array([float(row[0]) for row in iris])\n",
    "\n",
    "\n",
    "\n",
    "def softmax(x):\n",
    "    e_x = np.exp(x - np.max(x))\n",
    "    return e_x / e_x.sum(axis=0)\n",
    "\n",
    "\n",
    "softmax(sepallength)"
   ]
  },
  {
   "cell_type": "markdown",
   "metadata": {},
   "source": [
    "##### 31. How to find the percentile scores of a numpy array?\n",
    "    Difficulty Level: L1\n",
    "\n",
    "    Q. Find the 5th and 95th percentile of iris's sepallength\n",
    "\n",
    "    url = 'https://archive.ics.uci.edu/ml/machine-learning-databases/iris/iris.data'\n",
    "    sepallength = np.genfromtxt(url, delimiter=',', dtype='float', usecols=[0])"
   ]
  },
  {
   "cell_type": "code",
   "execution_count": 87,
   "metadata": {},
   "outputs": [
    {
     "data": {
      "text/plain": [
       "array([4.6  , 7.255])"
      ]
     },
     "execution_count": 87,
     "metadata": {},
     "output_type": "execute_result"
    }
   ],
   "source": [
    "url = \"https://archive.ics.uci.edu/ml/machine-learning-databases/iris/iris.data\"\n",
    "sepallength = np.genfromtxt(url, delimiter=\",\", dtype=\"float\", usecols=[0])\n",
    "\n",
    "\n",
    "# Calcula o valor dos percentis passados em q\n",
    "# np.percentile recebe o array em que será aplicado a operação e os valores de percentil a serem calculados\n",
    "np.percentile(sepallength, q=[5, 95])"
   ]
  },
  {
   "cell_type": "markdown",
   "metadata": {},
   "source": [
    "<small>5% dos valores estão abaixo de 4.6 e 95% dos valores estão abaixo de 7.255</small>"
   ]
  },
  {
   "cell_type": "markdown",
   "metadata": {},
   "source": [
    "##### 32. How to insert values at random positions in an array?\n",
    "    Difficulty Level: L2\n",
    "\n",
    "    Q. Insert np.nan values at 20 random positions in iris_2d dataset\n",
    "\n",
    "    # Input\n",
    "    url = 'https://archive.ics.uci.edu/ml/machine-learning-databases/iris/iris.data'\n",
    "    iris_2d = np.genfromtxt(url, delimiter=',', dtype='object')"
   ]
  },
  {
   "cell_type": "code",
   "execution_count": 88,
   "metadata": {},
   "outputs": [
    {
     "data": {
      "text/plain": [
       "array([[b'5.1', b'3.5', b'1.4', b'0.2', b'Iris-setosa'],\n",
       "       [b'4.9', b'3.0', b'1.4', b'0.2', b'Iris-setosa'],\n",
       "       [b'4.7', b'3.2', b'1.3', b'0.2', b'Iris-setosa'],\n",
       "       [b'4.6', b'3.1', b'1.5', b'0.2', b'Iris-setosa'],\n",
       "       [b'5.0', b'3.6', b'1.4', b'0.2', b'Iris-setosa'],\n",
       "       [b'5.4', b'3.9', b'1.7', b'0.4', b'Iris-setosa'],\n",
       "       [b'4.6', b'3.4', b'1.4', b'0.3', b'Iris-setosa'],\n",
       "       [b'5.0', b'3.4', b'1.5', b'0.2', b'Iris-setosa'],\n",
       "       [b'4.4', nan, b'1.4', b'0.2', b'Iris-setosa'],\n",
       "       [b'4.9', b'3.1', b'1.5', b'0.1', b'Iris-setosa']], dtype=object)"
      ]
     },
     "execution_count": 88,
     "metadata": {},
     "output_type": "execute_result"
    }
   ],
   "source": [
    "url = \"https://archive.ics.uci.edu/ml/machine-learning-databases/iris/iris.data\"\n",
    "iris_2d = np.genfromtxt(url, delimiter=\",\", dtype=\"object\")\n",
    "\n",
    "# Define uma semente para gerador de números aleatórios\n",
    "np.random.seed(100)\n",
    "\n",
    "# Primeiro gera um array com 20 números aleatórios entre 0 e 149, representando os índices das linhas do array\n",
    "# Depois gera um array com  20 números aleatórios de 0 até 3, representando as colunas do array\n",
    "# Com os índices gerados, é atribuido NaN\n",
    "iris_2d[np.random.randint(150, size=20), np.random.randint(4, size=20)] = np.nan\n",
    "\n",
    "iris_2d[:10]\n"
   ]
  },
  {
   "cell_type": "markdown",
   "metadata": {},
   "source": [
    "##### 33. How to find the position of missing values in numpy array?\n",
    "    Difficulty Level: L2\n",
    "\n",
    "    Q. Find the number and position of missing values in iris_2d's sepallength (1st column)\n",
    "\n",
    "    # Input\n",
    "    url = 'https://archive.ics.uci.edu/ml/machine-learning-databases/iris/iris.data'\n",
    "    iris_2d = np.genfromtxt(url, delimiter=',', dtype='float')\n",
    "    iris_2d[np.random.randint(150, size=20), np.random.randint(4, size=20)] = np.nan"
   ]
  },
  {
   "cell_type": "code",
   "execution_count": 89,
   "metadata": {},
   "outputs": [
    {
     "name": "stdout",
     "output_type": "stream",
     "text": [
      "5\n",
      "(array([ 38,  80, 106, 113, 121]),)\n"
     ]
    }
   ],
   "source": [
    "url = 'https://archive.ics.uci.edu/ml/machine-learning-databases/iris/iris.data'\n",
    "iris_2d = np.genfromtxt(url, delimiter=',', dtype='float')\n",
    "iris_2d[np.random.randint(150, size=20), np.random.randint(4, size=20)] = np.nan\n",
    "\n",
    "# Para localizar valores NaN em arrays, é preciso usar a função np.isnan()\n",
    "print(np.isnan(iris_2d[:, 0]).sum())\n",
    "print(np.where(np.isnan(iris_2d[:,0])))"
   ]
  },
  {
   "cell_type": "markdown",
   "metadata": {},
   "source": [
    "##### 34. How to filter a numpy array based on two or more conditions?\n",
    "    Difficulty Level: L3\n",
    "\n",
    "    Q. Filter the rows of iris_2d that has petallength (3rd column) > 1.5 and sepallength (1st column) < 5.0"
   ]
  },
  {
   "cell_type": "code",
   "execution_count": 90,
   "metadata": {},
   "outputs": [
    {
     "data": {
      "text/plain": [
       "array([[4.8, 3.4, 1.6, 0.2],\n",
       "       [4.8, 3.4, 1.9, 0.2],\n",
       "       [4.7, 3.2, 1.6, 0.2],\n",
       "       [4.8, 3.1, 1.6, 0.2],\n",
       "       [4.9, 2.4, 3.3, 1. ],\n",
       "       [4.9, 2.5, 4.5, 1.7]])"
      ]
     },
     "execution_count": 90,
     "metadata": {},
     "output_type": "execute_result"
    }
   ],
   "source": [
    "url = \"https://archive.ics.uci.edu/ml/machine-learning-databases/iris/iris.data\"\n",
    "iris_2d = np.genfromtxt(url, delimiter=\",\", dtype=\"float\", usecols=[0, 1, 2, 3])\n",
    "\n",
    "# filtra os índices das linhas\n",
    "mask = np.where((iris_2d[:, 2] > 1.5) & (iris_2d[:, 0] < 5))\n",
    "\n",
    "# printa as linhas\n",
    "iris_2d[mask]"
   ]
  },
  {
   "cell_type": "markdown",
   "metadata": {},
   "source": [
    "##### 35. How to drop rows that contain a missing value from a numpy array?\n",
    "    Difficulty Level: L3:\n",
    "\n",
    "    Q. Select the rows of iris_2d that does not have any nan value."
   ]
  },
  {
   "cell_type": "code",
   "execution_count": 91,
   "metadata": {},
   "outputs": [
    {
     "data": {
      "text/plain": [
       "array([[5.1, 3.5, 1.4, 0.2],\n",
       "       [4.9, 3. , 1.4, 0.2],\n",
       "       [4.7, 3.2, 1.3, 0.2],\n",
       "       [4.6, 3.1, 1.5, 0.2],\n",
       "       [5. , 3.6, 1.4, 0.2]])"
      ]
     },
     "execution_count": 91,
     "metadata": {},
     "output_type": "execute_result"
    }
   ],
   "source": [
    "url = 'https://archive.ics.uci.edu/ml/machine-learning-databases/iris/iris.data'\n",
    "iris_2d = np.genfromtxt(url, delimiter=\",\", dtype=\"float\", usecols=[0, 1, 2, 3])\n",
    "\n",
    "iris_2d[np.sum(np.isnan(iris_2d), axis=1) == 0][:5]"
   ]
  },
  {
   "cell_type": "markdown",
   "metadata": {},
   "source": [
    "##### 36. How to find the correlation between two columns of a numpy array?\n",
    "    Difficulty Level: L2\n",
    "\n",
    "    Q. Find the correlation between SepalLength(1st column) and PetalLength(3rd column) in iris_2d"
   ]
  },
  {
   "cell_type": "code",
   "execution_count": 92,
   "metadata": {},
   "outputs": [
    {
     "data": {
      "text/plain": [
       "0.8717541573048718"
      ]
     },
     "execution_count": 92,
     "metadata": {},
     "output_type": "execute_result"
    }
   ],
   "source": [
    "url = \"https://archive.ics.uci.edu/ml/machine-learning-databases/iris/iris.data\"\n",
    "iris_2d = np.genfromtxt(url, delimiter=\",\", dtype=\"float\", usecols=[0, 1, 2, 3])\n",
    "\n",
    "sepallength = iris_2d[:, 0]\n",
    "petallength = iris_2d[:, 2]\n",
    "\n",
    "# a função np.corrcoef acha o índice d ecorrelação entre dois arrays de dimensão 1D\n",
    "np.corrcoef(sepallength, petallength)[0, 1]"
   ]
  },
  {
   "cell_type": "markdown",
   "metadata": {},
   "source": [
    "##### 37. How to find if a given array has any null values?\n",
    "    Difficulty Level: L2\n",
    "\n",
    "    Q. Find out if iris_2d has any missing values."
   ]
  },
  {
   "cell_type": "code",
   "execution_count": 93,
   "metadata": {},
   "outputs": [
    {
     "data": {
      "text/plain": [
       "0"
      ]
     },
     "execution_count": 93,
     "metadata": {},
     "output_type": "execute_result"
    }
   ],
   "source": [
    "url = \"https://archive.ics.uci.edu/ml/machine-learning-databases/iris/iris.data\"\n",
    "iris_2d = np.genfromtxt(url, delimiter=\",\", dtype=\"float\", usecols=[0, 1, 2, 3])\n",
    "\n",
    "# Retorna o número de NaN no array, que é dado como 0\n",
    "np.isnan(iris_2d).sum()"
   ]
  },
  {
   "cell_type": "markdown",
   "metadata": {},
   "source": [
    "##### 38. How to replace all missing values with 0 in a numpy array?\n",
    "    Difficulty Level: L2\n",
    "\n",
    "    Q. Replace all ccurrences of nan with 0 in numpy array"
   ]
  },
  {
   "cell_type": "code",
   "execution_count": 94,
   "metadata": {},
   "outputs": [
    {
     "data": {
      "text/plain": [
       "array([[0. , 3.5, 1.4, 0.2],\n",
       "       [4.9, 3. , 1.4, 0.2],\n",
       "       [4.7, 3.2, 1.3, 0.2],\n",
       "       [4.6, 3.1, 1.5, 0.2]])"
      ]
     },
     "execution_count": 94,
     "metadata": {},
     "output_type": "execute_result"
    }
   ],
   "source": [
    "url = \"https://archive.ics.uci.edu/ml/machine-learning-databases/iris/iris.data\"\n",
    "iris_2d = np.genfromtxt(url, delimiter=\",\", dtype=\"float\", usecols=[0, 1, 2, 3])\n",
    "iris_2d[np.random.randint(150, size=20), np.random.randint(4, size=20)] = np.nan\n",
    "\n",
    "# Salva em uma máscara booleana as amostras com valor NaN\n",
    "mask = np.isnan(iris_2d)\n",
    "\n",
    "iris_2d[mask] = 0\n",
    "\n",
    "iris_2d[:4]"
   ]
  },
  {
   "cell_type": "markdown",
   "metadata": {},
   "source": [
    "##### 39. How to find the count of unique values in a numpy array?\n",
    "    Difficulty Level: L2\n",
    "\n",
    "    Q. Find the unique values and the count of unique values in iris's species"
   ]
  },
  {
   "cell_type": "code",
   "execution_count": 95,
   "metadata": {},
   "outputs": [
    {
     "data": {
      "text/plain": [
       "(array([b'Iris-setosa', b'Iris-versicolor', b'Iris-virginica'],\n",
       "       dtype=object),\n",
       " array([50, 50, 50]))"
      ]
     },
     "execution_count": 95,
     "metadata": {},
     "output_type": "execute_result"
    }
   ],
   "source": [
    "url = 'https://archive.ics.uci.edu/ml/machine-learning-databases/iris/iris.data'\n",
    "iris = np.genfromtxt(url, delimiter=',', dtype='object')\n",
    "names = ('sepallength', 'sepalwidth', 'petallength', 'petalwidth', 'species')\n",
    "\n",
    "species = iris[:, 4]\n",
    "\n",
    "# np.unique retorna todos os valores distintos e a qtd de cada um\n",
    "np.unique(species, return_counts=True)"
   ]
  },
  {
   "cell_type": "markdown",
   "metadata": {},
   "source": [
    "##### 40. How to convert a numeric to a categorical (text) array?\n",
    "    Difficulty Level: L2\n",
    "\n",
    "    Q. Bin the petal length (3rd) column of iris_2d to form a text array, such that if petal length is:\n",
    "\n",
    "    Less than 3 --> 'small'\n",
    "    3-5 --> 'medium'\n",
    "    '>=5 --> 'large'"
   ]
  },
  {
   "cell_type": "markdown",
   "metadata": {},
   "source": [
    "* Tentar aplicar no trabalho o digitize"
   ]
  },
  {
   "cell_type": "code",
   "execution_count": 96,
   "metadata": {},
   "outputs": [
    {
     "data": {
      "text/plain": [
       "['small', 'small', 'small', 'small']"
      ]
     },
     "execution_count": 96,
     "metadata": {},
     "output_type": "execute_result"
    }
   ],
   "source": [
    "url = \"https://archive.ics.uci.edu/ml/machine-learning-databases/iris/iris.data\"\n",
    "iris = np.genfromtxt(url, delimiter=\",\", dtype=\"object\")\n",
    "names = (\"sepallength\", \"sepalwidth\", \"petallength\", \"petalwidth\", \"species\")\n",
    "\n",
    "# Convertendo a terceira coluna para tipo float\n",
    "# Além disso define os intervalos (bins) 0-3, 3-5, 5-10, fornecidos em formato de array\n",
    "petal_length_bin = np.digitize(iris[:, 2].astype(\"float\"), [0, 3, 5, 10])\n",
    "\n",
    "label_map = {1: \"small\", 2: \"medium\", 3: \"large\", 4: np.nan}\n",
    "petal_length_cat = [label_map[x] for x in petal_length_bin]\n",
    "\n",
    "petal_length_cat[:4]"
   ]
  },
  {
   "cell_type": "markdown",
   "metadata": {},
   "source": [
    "##### 41. How to create a new column from existing columns of a numpy array?\n",
    "    Difficulty Level: L2\n",
    "\n",
    "    Q. Create a new column for volume in iris_2d, where volume is (pi x petallength x sepal_length^2)/3"
   ]
  },
  {
   "cell_type": "code",
   "execution_count": 97,
   "metadata": {},
   "outputs": [
    {
     "data": {
      "text/plain": [
       "array([[b'5.1', b'3.5', b'1.4', b'0.2', b'Iris-setosa',\n",
       "        38.13265162927291],\n",
       "       [b'4.9', b'3.0', b'1.4', b'0.2', b'Iris-setosa',\n",
       "        35.200498485922445],\n",
       "       [b'4.7', b'3.2', b'1.3', b'0.2', b'Iris-setosa', 30.0723720777127],\n",
       "       [b'4.6', b'3.1', b'1.5', b'0.2', b'Iris-setosa',\n",
       "        33.238050274980004],\n",
       "       [b'5.0', b'3.6', b'1.4', b'0.2', b'Iris-setosa',\n",
       "        36.65191429188092]], dtype=object)"
      ]
     },
     "execution_count": 97,
     "metadata": {},
     "output_type": "execute_result"
    }
   ],
   "source": [
    "url = \"https://archive.ics.uci.edu/ml/machine-learning-databases/iris/iris.data\"\n",
    "iris_2d = np.genfromtxt(url, delimiter=\",\", dtype=\"object\")\n",
    "names = (\"sepallength\", \"sepalwidth\", \"petallength\", \"petalwidth\", \"species\")\n",
    "\n",
    "# ao atribuir uma coluna específica para uma variável, é possível definir o tipo dela, até mesmo altera-lo\n",
    "sepallength = iris_2d[:, 0].astype('float')\n",
    "petallength = iris_2d[:, 2].astype('float')\n",
    "\n",
    "volume = (np.pi * petallength * (sepallength ** 2))/3\n",
    "\n",
    "# muda a dimensão para que tenha uma única coluna\n",
    "volume = np.reshape(volume, (-1,1))\n",
    "\n",
    "iris_2d = np.hstack([iris_2d, volume])\n",
    "\n",
    "iris_2d[0:5]"
   ]
  },
  {
   "cell_type": "markdown",
   "metadata": {},
   "source": [
    "##### 42. How to do probabilistic sampling in numpy?\n",
    "    Difficulty Level: L3\n",
    "\n",
    "    Q. Randomly sample iris's species such that setose is twice the number of versicolor and virginica"
   ]
  },
  {
   "cell_type": "code",
   "execution_count": 98,
   "metadata": {},
   "outputs": [
    {
     "data": {
      "text/plain": [
       "array([b'Iris-versicolor', b'Iris-setosa', b'Iris-setosa',\n",
       "       b'Iris-virginica', b'Iris-setosa', b'Iris-setosa',\n",
       "       b'Iris-versicolor', b'Iris-virginica', b'Iris-setosa',\n",
       "       b'Iris-versicolor', b'Iris-virginica', b'Iris-setosa',\n",
       "       b'Iris-setosa', b'Iris-setosa', b'Iris-setosa', b'Iris-virginica',\n",
       "       b'Iris-virginica', b'Iris-setosa', b'Iris-virginica',\n",
       "       b'Iris-setosa', b'Iris-setosa', b'Iris-virginica',\n",
       "       b'Iris-virginica', b'Iris-setosa', b'Iris-setosa', b'Iris-setosa',\n",
       "       b'Iris-setosa', b'Iris-setosa', b'Iris-virginica', b'Iris-setosa',\n",
       "       b'Iris-versicolor', b'Iris-versicolor', b'Iris-setosa',\n",
       "       b'Iris-setosa', b'Iris-setosa', b'Iris-virginica',\n",
       "       b'Iris-virginica', b'Iris-setosa', b'Iris-virginica',\n",
       "       b'Iris-versicolor', b'Iris-versicolor', b'Iris-versicolor',\n",
       "       b'Iris-versicolor', b'Iris-setosa', b'Iris-setosa',\n",
       "       b'Iris-versicolor', b'Iris-virginica', b'Iris-setosa',\n",
       "       b'Iris-setosa', b'Iris-virginica', b'Iris-virginica',\n",
       "       b'Iris-virginica', b'Iris-setosa', b'Iris-versicolor',\n",
       "       b'Iris-setosa', b'Iris-setosa', b'Iris-setosa', b'Iris-setosa',\n",
       "       b'Iris-setosa', b'Iris-versicolor', b'Iris-setosa',\n",
       "       b'Iris-versicolor', b'Iris-versicolor', b'Iris-setosa',\n",
       "       b'Iris-virginica', b'Iris-virginica', b'Iris-versicolor',\n",
       "       b'Iris-setosa', b'Iris-setosa', b'Iris-setosa', b'Iris-setosa',\n",
       "       b'Iris-setosa', b'Iris-setosa', b'Iris-virginica',\n",
       "       b'Iris-virginica', b'Iris-versicolor', b'Iris-versicolor',\n",
       "       b'Iris-setosa', b'Iris-setosa', b'Iris-setosa', b'Iris-versicolor',\n",
       "       b'Iris-setosa', b'Iris-versicolor', b'Iris-virginica',\n",
       "       b'Iris-setosa', b'Iris-setosa', b'Iris-virginica',\n",
       "       b'Iris-virginica', b'Iris-setosa', b'Iris-versicolor',\n",
       "       b'Iris-versicolor', b'Iris-setosa', b'Iris-setosa', b'Iris-setosa',\n",
       "       b'Iris-setosa', b'Iris-versicolor', b'Iris-setosa',\n",
       "       b'Iris-versicolor', b'Iris-setosa', b'Iris-versicolor',\n",
       "       b'Iris-virginica', b'Iris-virginica', b'Iris-versicolor',\n",
       "       b'Iris-setosa', b'Iris-versicolor', b'Iris-virginica',\n",
       "       b'Iris-versicolor', b'Iris-virginica', b'Iris-virginica',\n",
       "       b'Iris-setosa', b'Iris-setosa', b'Iris-setosa', b'Iris-virginica',\n",
       "       b'Iris-virginica', b'Iris-setosa', b'Iris-setosa',\n",
       "       b'Iris-versicolor', b'Iris-setosa', b'Iris-setosa',\n",
       "       b'Iris-versicolor', b'Iris-versicolor', b'Iris-versicolor',\n",
       "       b'Iris-versicolor', b'Iris-setosa', b'Iris-setosa', b'Iris-setosa',\n",
       "       b'Iris-setosa', b'Iris-setosa', b'Iris-versicolor', b'Iris-setosa',\n",
       "       b'Iris-setosa', b'Iris-setosa', b'Iris-virginica', b'Iris-setosa',\n",
       "       b'Iris-setosa', b'Iris-setosa', b'Iris-versicolor',\n",
       "       b'Iris-virginica', b'Iris-virginica', b'Iris-virginica',\n",
       "       b'Iris-setosa', b'Iris-versicolor', b'Iris-versicolor',\n",
       "       b'Iris-setosa', b'Iris-virginica', b'Iris-setosa',\n",
       "       b'Iris-virginica', b'Iris-versicolor', b'Iris-setosa',\n",
       "       b'Iris-setosa'], dtype=object)"
      ]
     },
     "execution_count": 98,
     "metadata": {},
     "output_type": "execute_result"
    }
   ],
   "source": [
    "url = \"https://archive.ics.uci.edu/ml/machine-learning-databases/iris/iris.data\"\n",
    "iris = np.genfromtxt(url, delimiter=\",\", dtype=\"object\")\n",
    "\n",
    "species = iris[:, 4]\n",
    "\n",
    "a = np.unique(species)\n",
    "\n",
    "np.random.seed(100)\n",
    "#np.random.choice escolhe aleatoriamente elementos do vetor a, passado para a função\n",
    "# a escolha é baseada na % de chance atribuido a cada amostra, sendo 50% para a primeira e 25% para as demais\n",
    "species_out = np.random.choice(a, 150, p=[0.5, 0.25, 0.25])\n",
    "\n",
    "species_out"
   ]
  },
  {
   "cell_type": "markdown",
   "metadata": {},
   "source": [
    "##### 43. How to get the second largest value of an array when grouped by another array?\n",
    "    Difficulty Level: L2\n",
    "\n",
    "    Q. What is the value of second longest petallength of species setosa"
   ]
  },
  {
   "cell_type": "code",
   "execution_count": 99,
   "metadata": {},
   "outputs": [
    {
     "data": {
      "text/plain": [
       "1.7"
      ]
     },
     "execution_count": 99,
     "metadata": {},
     "output_type": "execute_result"
    }
   ],
   "source": [
    "url = 'https://archive.ics.uci.edu/ml/machine-learning-databases/iris/iris.data'\n",
    "iris = np.genfromtxt(url, delimiter=',', dtype='object')\n",
    "names = (\"sepallength\", \"sepalwidth\", \"petallength\", \"petalwidth\", \"species\")\n",
    "\n",
    "# Seleciona apenas os indices de linha Iris-setosa\n",
    "rows = np.where(iris[:,4] == b'Iris-setosa')\n",
    "\n",
    "# Depois pega os valores de petalas os convertendo para float\n",
    "petal_len_setosa = iris[rows, 2].astype('float')\n",
    "\n",
    "# ordena os valores unicos\n",
    "petal_len_setosa = np.unique(np.sort(petal_len_setosa))\n",
    "\n",
    "# Seleciona o penultimo\n",
    "petal_len_setosa[-2]"
   ]
  },
  {
   "cell_type": "markdown",
   "metadata": {},
   "source": [
    "##### 44. How to sort a 2D array by a column\n",
    "    Difficulty Level: L2\n",
    "\n",
    "    Q. Sort the iris dataset based on sepallength column."
   ]
  },
  {
   "cell_type": "code",
   "execution_count": 100,
   "metadata": {},
   "outputs": [
    {
     "name": "stdout",
     "output_type": "stream",
     "text": [
      "[[b'4.3' b'3.0' b'1.1' b'0.1' b'Iris-setosa']\n",
      " [b'4.4' b'3.2' b'1.3' b'0.2' b'Iris-setosa']\n",
      " [b'4.4' b'3.0' b'1.3' b'0.2' b'Iris-setosa']\n",
      " [b'4.4' b'2.9' b'1.4' b'0.2' b'Iris-setosa']\n",
      " [b'4.5' b'2.3' b'1.3' b'0.3' b'Iris-setosa']\n",
      " [b'4.6' b'3.6' b'1.0' b'0.2' b'Iris-setosa']\n",
      " [b'4.6' b'3.1' b'1.5' b'0.2' b'Iris-setosa']\n",
      " [b'4.6' b'3.4' b'1.4' b'0.3' b'Iris-setosa']\n",
      " [b'4.6' b'3.2' b'1.4' b'0.2' b'Iris-setosa']\n",
      " [b'4.7' b'3.2' b'1.3' b'0.2' b'Iris-setosa']\n",
      " [b'4.7' b'3.2' b'1.6' b'0.2' b'Iris-setosa']\n",
      " [b'4.8' b'3.0' b'1.4' b'0.1' b'Iris-setosa']\n",
      " [b'4.8' b'3.0' b'1.4' b'0.3' b'Iris-setosa']\n",
      " [b'4.8' b'3.4' b'1.9' b'0.2' b'Iris-setosa']\n",
      " [b'4.8' b'3.4' b'1.6' b'0.2' b'Iris-setosa']\n",
      " [b'4.8' b'3.1' b'1.6' b'0.2' b'Iris-setosa']\n",
      " [b'4.9' b'2.4' b'3.3' b'1.0' b'Iris-versicolor']\n",
      " [b'4.9' b'2.5' b'4.5' b'1.7' b'Iris-virginica']\n",
      " [b'4.9' b'3.1' b'1.5' b'0.1' b'Iris-setosa']\n",
      " [b'4.9' b'3.1' b'1.5' b'0.1' b'Iris-setosa']]\n"
     ]
    }
   ],
   "source": [
    "url = \"https://archive.ics.uci.edu/ml/machine-learning-databases/iris/iris.data\"\n",
    "iris = np.genfromtxt(url, delimiter=\",\", dtype=\"object\")\n",
    "names = (\"sepallength\", \"sepalwidth\", \"petallength\", \"petalwidth\", \"species\")\n",
    "\n",
    "# Ordena pela coluna 0\n",
    "print(iris[iris[:, 0].argsort()][:20])"
   ]
  },
  {
   "cell_type": "markdown",
   "metadata": {},
   "source": [
    "##### 45. How to find the most frequent value in a numpy array?\n",
    "    Difficulty Level: L1\n",
    "\n",
    "    Q. Find the most frequent value of petal length (3rd column) in iris dataset."
   ]
  },
  {
   "cell_type": "code",
   "execution_count": 101,
   "metadata": {},
   "outputs": [
    {
     "name": "stdout",
     "output_type": "stream",
     "text": [
      "b'1.5'\n"
     ]
    }
   ],
   "source": [
    "url = \"https://archive.ics.uci.edu/ml/machine-learning-databases/iris/iris.data\"\n",
    "iris = np.genfromtxt(url, delimiter=\",\", dtype=\"object\")\n",
    "\n",
    "# retorna os valores distintos da coluna petallength e suas respectivas frequencias\n",
    "# Dessa maneira, o índice de cada valor único está associado ao indice de sua frequencia\n",
    "vals, counts = np.unique(iris[:, 2], return_counts=True)\n",
    "\n",
    "# Assim, ao usar argmax(count) retorna o indice da maior contagem, que esta associada ao valor unico de maior frequencia\n",
    "print(vals[np.argmax(counts)])"
   ]
  },
  {
   "cell_type": "markdown",
   "metadata": {},
   "source": [
    "##### 46. How to find the position of the first occurrence of a value greater than a given value?\n",
    "    Difficulty Level: L2\n",
    "\n",
    "    Q. Find the position of the first occurrence of a value greater than 1.0 in petalwidth 4th column of iris dataset."
   ]
  },
  {
   "cell_type": "code",
   "execution_count": 102,
   "metadata": {},
   "outputs": [
    {
     "data": {
      "text/plain": [
       "array([50])"
      ]
     },
     "execution_count": 102,
     "metadata": {},
     "output_type": "execute_result"
    }
   ],
   "source": [
    "url = \"https://archive.ics.uci.edu/ml/machine-learning-databases/iris/iris.data\"\n",
    "iris = np.genfromtxt(url, delimiter=\",\", dtype=\"object\")\n",
    "\n",
    "# np.argwhere retorna os índices que cumprem a condição passada a ser aplicada em um array\n",
    "np.argwhere(iris[:, 3].astype(float) > 1.0)[0]"
   ]
  },
  {
   "cell_type": "markdown",
   "metadata": {},
   "source": [
    "##### 47. How to replace all values greater than a given value to a given cutoff?\n",
    "    Difficulty Level: L2\n",
    "\n",
    "    Q. From the array a, replace all values greater than 30 to 30 and less than 10 to 10."
   ]
  },
  {
   "cell_type": "code",
   "execution_count": 103,
   "metadata": {},
   "outputs": [
    {
     "data": {
      "text/plain": [
       "array([27.626842, 14.6401  , 21.801362, 30.      , 10.      , 10.      ,\n",
       "       30.      , 30.      , 10.      , 29.179573, 30.      , 11.250904,\n",
       "       10.081083, 10.      , 11.765177, 30.      , 30.      , 10.      ,\n",
       "       30.      , 14.429614])"
      ]
     },
     "execution_count": 103,
     "metadata": {},
     "output_type": "execute_result"
    }
   ],
   "source": [
    "np.random.seed(100)\n",
    "a = np.random.uniform(1, 50, 20)\n",
    "\n",
    "values_greater_30 = np.argwhere(a > 30)\n",
    "values_less_10 = np.argwhere(a < 10)\n",
    "\n",
    "a[values_greater_30] = 30\n",
    "a[values_less_10] = 10\n",
    "\n",
    "a"
   ]
  },
  {
   "cell_type": "markdown",
   "metadata": {},
   "source": [
    "##### 48. How to get the positions of top n values from a numpy array?\n",
    "    Difficulty Level: L2\n",
    "\n",
    "    Q. Get the positions of top 5 maximum values in a given array a."
   ]
  },
  {
   "cell_type": "code",
   "execution_count": 104,
   "metadata": {},
   "outputs": [
    {
     "name": "stdout",
     "output_type": "stream",
     "text": [
      "[ 4 13  5  8 17 12 11 14 19  1  2  0  9  6 16 18  7  3 10 15]\n"
     ]
    },
    {
     "data": {
      "text/plain": [
       "array([48.952565, 44.674776, 42.39403 , 41.466785, 40.995013])"
      ]
     },
     "execution_count": 104,
     "metadata": {},
     "output_type": "execute_result"
    }
   ],
   "source": [
    "np.random.seed(100)\n",
    "a = np.random.uniform(1, 50, 20)\n",
    "\n",
    "# Retorna as posições\n",
    "print(a.argsort())\n",
    "\n",
    "# Retorna os 5 maiores valores\n",
    "np.sort(a)[-1:-6:-1]"
   ]
  },
  {
   "cell_type": "markdown",
   "metadata": {},
   "source": [
    "##### 49. How to compute the row wise counts of all possible values in an array?\n",
    "    Difficulty Level: L4\n",
    "\n",
    "    Q. Compute the counts of unique values row-wise."
   ]
  },
  {
   "cell_type": "code",
   "execution_count": 105,
   "metadata": {},
   "outputs": [
    {
     "name": "stdout",
     "output_type": "stream",
     "text": [
      "[ 1  2  3  4  5  6  7  8  9 10]\n"
     ]
    },
    {
     "name": "stderr",
     "output_type": "stream",
     "text": [
      "/tmp/ipykernel_27882/4044348034.py:9: DeprecationWarning: Conversion of an array with ndim > 0 to a scalar is deprecated, and will error in future. Ensure you extract a single element from your array before performing this operation. (Deprecated NumPy 1.25.)\n",
      "  [int(b[a == i]) if i in a else 0 for i in np.unique(arr2d)]\n"
     ]
    },
    {
     "data": {
      "text/plain": [
       "[[1, 0, 2, 1, 1, 1, 0, 2, 2, 0],\n",
       " [2, 1, 3, 0, 1, 0, 1, 0, 1, 1],\n",
       " [0, 3, 0, 2, 3, 1, 0, 1, 0, 0],\n",
       " [1, 0, 2, 1, 0, 1, 0, 2, 1, 2],\n",
       " [2, 2, 2, 0, 0, 1, 1, 1, 1, 0],\n",
       " [1, 1, 1, 1, 1, 2, 0, 0, 2, 1]]"
      ]
     },
     "execution_count": 105,
     "metadata": {},
     "output_type": "execute_result"
    }
   ],
   "source": [
    "np.random.seed(100)\n",
    "arr = np.random.randint(1, 11, size=(6, 10))\n",
    "\n",
    "\n",
    "def counts_of_all_values_rowwise(arr2d):\n",
    "    num_counts_array = [np.unique(row, return_counts=True) for row in arr2d]\n",
    "\n",
    "    return [\n",
    "        [int(b[a == i]) if i in a else 0 for i in np.unique(arr2d)]\n",
    "        for a, b in num_counts_array\n",
    "    ]\n",
    "\n",
    "\n",
    "# Print\n",
    "print(np.arange(1, 11))\n",
    "counts_of_all_values_rowwise(arr)"
   ]
  },
  {
   "cell_type": "markdown",
   "metadata": {},
   "source": [
    "##### 50. How to convert an array of arrays into a flat 1d array?\n",
    "  Difficulty Level: 2\n",
    "\n",
    "  Q. Convert array_of_arrays into a flat linear 1d array."
   ]
  },
  {
   "cell_type": "code",
   "execution_count": 106,
   "metadata": {},
   "outputs": [
    {
     "data": {
      "text/plain": [
       "array([0, 1, 2, 3, 4, 5, 6, 7, 8])"
      ]
     },
     "execution_count": 106,
     "metadata": {},
     "output_type": "execute_result"
    }
   ],
   "source": [
    "arr1 = np.arange(0, 3)\n",
    "arr2 = np.arange(3, 6)\n",
    "arr3 = np.arange(6, 9)\n",
    "array_of_arrays = np.array([arr1, arr2, arr3])\n",
    "\n",
    "result = np.hstack([array_of_arrays[0], array_of_arrays[1], array_of_arrays[2]])\n",
    "\n",
    "result"
   ]
  },
  {
   "cell_type": "markdown",
   "metadata": {},
   "source": [
    "##### 51. How to generate one-hot encodings for an array in numpy?\n",
    "  Difficulty Level L4\n",
    "\n",
    "  Q. Compute the one-hot encodings (dummy binary variables for each unique value in the array)"
   ]
  },
  {
   "cell_type": "code",
   "execution_count": 107,
   "metadata": {},
   "outputs": [
    {
     "data": {
      "text/plain": [
       "array([[0., 1., 0.],\n",
       "       [0., 0., 1.],\n",
       "       [0., 1., 0.],\n",
       "       [0., 1., 0.],\n",
       "       [0., 1., 0.],\n",
       "       [1., 0., 0.]])"
      ]
     },
     "execution_count": 107,
     "metadata": {},
     "output_type": "execute_result"
    }
   ],
   "source": [
    "np.random.seed(101)\n",
    "arr = np.random.randint(1, 4, size=6)\n",
    "\n",
    "\n",
    "def one_hot_encodings(arr):\n",
    "    uniqs = np.unique(arr)\n",
    "    out = np.zeros((arr.shape[0], uniqs.shape[0]))\n",
    "    for i, k in enumerate(arr):\n",
    "        out[i, k - 1] = 1\n",
    "    return out\n",
    "\n",
    "\n",
    "one_hot_encodings(arr)"
   ]
  },
  {
   "cell_type": "markdown",
   "metadata": {},
   "source": [
    "##### 52. How to create row numbers grouped by a categorical variable?\n",
    "  Difficulty Level: L3\n",
    "\n",
    "  Q. Create row numbers grouped by a categorical variable. Use the following sample from iris species as input."
   ]
  },
  {
   "cell_type": "code",
   "execution_count": 108,
   "metadata": {},
   "outputs": [
    {
     "name": "stdout",
     "output_type": "stream",
     "text": [
      "[0, 1, 2, 3, 4, 0, 1, 2, 3, 4, 5, 0, 1, 2, 3, 4, 5, 6, 7, 8]\n"
     ]
    }
   ],
   "source": [
    "url = \"https://archive.ics.uci.edu/ml/machine-learning-databases/iris/iris.data\"\n",
    "species = np.genfromtxt(url, delimiter=\",\", dtype=\"str\", usecols=4)\n",
    "species_small = np.sort(np.random.choice(species, size=20))\n",
    "\n",
    "\n",
    "print(\n",
    "    [\n",
    "        i\n",
    "        for val in np.unique(species_small)\n",
    "        for i, grp in enumerate(species_small[species_small == val])\n",
    "    ]\n",
    ")"
   ]
  },
  {
   "cell_type": "markdown",
   "metadata": {},
   "source": [
    "#### 53. How to create groud ids based on a given categorical variable?\n",
    "\n",
    "    Difficulty Level: L4\n",
    "\n",
    "    Q. Create group ids based on a given categorical variable. Use the following sample from iris species as input."
   ]
  },
  {
   "cell_type": "code",
   "execution_count": 111,
   "metadata": {},
   "outputs": [
    {
     "data": {
      "text/plain": [
       "[0, 0, 0, 0, 0, 0, 1, 1, 1, 1, 1, 1, 2, 2, 2, 2, 2, 2, 2, 2]"
      ]
     },
     "execution_count": 111,
     "metadata": {},
     "output_type": "execute_result"
    }
   ],
   "source": [
    "url = 'https://archive.ics.uci.edu/ml/machine-learning-databases/iris/iris.data'\n",
    "species = np.genfromtxt(url, delimiter=',', dtype='str', usecols=4)\n",
    "species_small = np.sort(np.random.choice(species, size=20))\n",
    "species_small\n",
    "\n",
    "output = [np.argwhere(np.unique(species_small) == s).tolist()[0][0] for val in np.unique(species_small) for s in species_small[species_small==val]]\n",
    "\n",
    "output"
   ]
  },
  {
   "cell_type": "markdown",
   "metadata": {},
   "source": [
    "##### 54. How to rank items in an array using numpy?\n",
    "\n",
    "Difficulty Level: L2\n",
    "\n",
    "Q. Create the ranks for the given numeric array a."
   ]
  },
  {
   "cell_type": "code",
   "execution_count": 116,
   "metadata": {},
   "outputs": [
    {
     "data": {
      "text/plain": [
       "array([4, 2, 6, 0, 8, 7, 9, 3, 5, 1])"
      ]
     },
     "execution_count": 116,
     "metadata": {},
     "output_type": "execute_result"
    }
   ],
   "source": [
    "np.random.seed(10)\n",
    "a = np.random.randint(20, size=10)\n",
    "# argsort fornece o índice que ordenariam um array, ou seja, a respectiva posição que cada elemento deveria tomar\n",
    "a.argsort().argsort()"
   ]
  },
  {
   "cell_type": "markdown",
   "metadata": {},
   "source": [
    "#### 55. How to rank items in a multidimensional array using numpy?\n",
    "\n",
    "Difficulty Level: L3\n",
    "\n",
    "Q. Create a rank array of the same shape as a given numeric array a."
   ]
  },
  {
   "cell_type": "code",
   "execution_count": 119,
   "metadata": {},
   "outputs": [
    {
     "data": {
      "text/plain": [
       "array([[ 9,  4, 15,  0, 17],\n",
       "       [16, 17,  8,  9,  0]])"
      ]
     },
     "execution_count": 119,
     "metadata": {},
     "output_type": "execute_result"
    }
   ],
   "source": [
    "np.random.seed(10)\n",
    "a = np.random.randint(20, size=[2,5])\n",
    "\n",
    "print(a.ravel().argsort().argsort().reshape(a.shape))"
   ]
  },
  {
   "cell_type": "markdown",
   "metadata": {},
   "source": [
    "#### 56. How to find the maximum value in each row of a numpy array 2d?\n",
    "\n",
    "DifficultyLevel: L2\n",
    "\n",
    "Q. Compute the maximum for each row in the given array."
   ]
  },
  {
   "cell_type": "code",
   "execution_count": 121,
   "metadata": {},
   "outputs": [
    {
     "data": {
      "text/plain": [
       "array([9, 8, 6, 3, 9])"
      ]
     },
     "execution_count": 121,
     "metadata": {},
     "output_type": "execute_result"
    }
   ],
   "source": [
    "np.random.seed(100)\n",
    "a = np.random.randint(1,10, [5,3])\n",
    "\n",
    "# recupera o máximo em cada eixo 1, linhas\n",
    "np.max(a, axis=1)"
   ]
  },
  {
   "cell_type": "markdown",
   "metadata": {},
   "source": [
    "#### 57. How to compute the min-by-max for each row for a numpy array 2d?\n",
    "\n",
    "DifficultyLevel: L3\n",
    "\n",
    "Q. Compute the min-by-max for each row for given 2d numpy array."
   ]
  },
  {
   "cell_type": "code",
   "execution_count": 123,
   "metadata": {},
   "outputs": [
    {
     "data": {
      "text/plain": [
       "array([0.444444, 0.125   , 0.5     , 1.      , 0.111111])"
      ]
     },
     "execution_count": 123,
     "metadata": {},
     "output_type": "execute_result"
    }
   ],
   "source": [
    "np.random.seed(100)\n",
    "a = np.random.randint(1,10, [5,3])\n",
    "\n",
    "np.apply_along_axis(lambda x: np.min(x)/np.max(x), arr=a, axis=1)"
   ]
  },
  {
   "cell_type": "markdown",
   "metadata": {},
   "source": [
    "#### 58. How to find the duplicate records in a numpy array?\n",
    "\n",
    "Difficulty Level: L3\n",
    "\n",
    "Q. Find the duplicate entries (2nd occurrence onwards) in the given numpy array and mark them as True. First time occurrences should be False."
   ]
  },
  {
   "cell_type": "code",
   "execution_count": 125,
   "metadata": {},
   "outputs": [
    {
     "name": "stdout",
     "output_type": "stream",
     "text": [
      "[ 0 -1  0 -1  0  0  6 -1  8 -1]\n"
     ]
    }
   ],
   "source": [
    "np.random.seed(100)\n",
    "a = np.random.randint(0, 5, 10)\n",
    "\n",
    "arr = np.full_like(a.shape[0], True)\n",
    "unique_positions =np.unique(a, return_index=True)[1]\n",
    "out[unique_positions] = False\n",
    "\n",
    "print(out)"
   ]
  },
  {
   "cell_type": "markdown",
   "metadata": {},
   "source": [
    "##### 59. How to find the grouped mean in numpy?\n",
    "\n",
    "Difficulty Level L3\n",
    "\n",
    "Q. Find the mean of a numeric column grouped by a categorical column in a 2D numpy array"
   ]
  },
  {
   "cell_type": "code",
   "execution_count": 126,
   "metadata": {},
   "outputs": [],
   "source": [
    "url = 'https://archive.ics.uci.edu/ml/machine-learning-databases/iris/iris.data'\n",
    "iris = np.genfromtxt(url, delimiter=',', dtype='object')\n",
    "names = ('sepallength', 'sepalwidth', 'petallength', 'petalwidth', 'species')\n",
    "\n",
    "numeric_column = iris[:, 1].astype('float')  \n",
    "grouping_column = iris[:, 4]  \n"
   ]
  },
  {
   "cell_type": "markdown",
   "metadata": {},
   "source": [
    "#### 60. How to convert a PIL image to numpy array?\n",
    "\n",
    "Difficulty Level: L3\n",
    "\n",
    "Q. Import the image from the following URL and convert it to a numpy array.\n",
    "\n",
    "URL = 'https://upload.wikimedia.org/wikipedia/commons/8/8b/Denali_Mt_McKinley.jpg'"
   ]
  },
  {
   "cell_type": "code",
   "execution_count": 132,
   "metadata": {},
   "outputs": [],
   "source": [
    "from io import BytesIO\n",
    "from PIL import Image\n",
    "import PIL, requests\n",
    "\n",
    "# Import image from URL\n",
    "URL = 'https://static.mundoeducacao.uol.com.br/mundoeducacao/2019/09/coracao.jpg'\n",
    "response = requests.get(URL)\n",
    "\n",
    "# Read it as Image\n",
    "I = Image.open(BytesIO(response.content))\n",
    "\n",
    "# Optionally resize\n",
    "I = I.resize([150,150])\n",
    "\n",
    "# Convert to numpy array\n",
    "arr = np.asarray(I)\n"
   ]
  },
  {
   "cell_type": "markdown",
   "metadata": {},
   "source": [
    "#### 61. How to drop all missing values from a numpy array?\n",
    "\n",
    "Difficulty Level: L2\n",
    "\n",
    "Q. Drop all nan values from a 1D numpy array"
   ]
  },
  {
   "cell_type": "code",
   "execution_count": 138,
   "metadata": {},
   "outputs": [
    {
     "data": {
      "text/plain": [
       "array([False, False, False,  True, False, False, False,  True])"
      ]
     },
     "execution_count": 138,
     "metadata": {},
     "output_type": "execute_result"
    }
   ],
   "source": [
    "arr = np.array([1,2,3,np.nan,5,6,7,np.nan])\n",
    "\n",
    "# aplicação de uma máscara\n",
    "# verifica quais posições são iguals a np.nan\n",
    "# np.isna retorna true para todos as posições que forem NaN\n",
    "mask = np.isnan(arr)\n",
    "\n",
    "# seleciona todos que NÃO SÃO np.nan\n",
    "arr[~mask]"
   ]
  },
  {
   "cell_type": "markdown",
   "metadata": {},
   "source": [
    "#### 62. How to compute the euclidean distance between two arrays?\n",
    "\n",
    "Difficulty Level: L3\n",
    "\n",
    "Q. Compute the euclidean distance between two arrays a and b."
   ]
  },
  {
   "cell_type": "code",
   "execution_count": 140,
   "metadata": {},
   "outputs": [
    {
     "data": {
      "text/plain": [
       "6.708203932499369"
      ]
     },
     "execution_count": 140,
     "metadata": {},
     "output_type": "execute_result"
    }
   ],
   "source": [
    "a = np.array([1,2,3,4,5])\n",
    "b = np.array([4,5,6,7,8])\n",
    "\n",
    "# np.linalg calcula a norma de um vetor, no caso abaixo, está normalizando a - b\n",
    "dist = np.linalg.norm(a-b)\n",
    "dist"
   ]
  },
  {
   "cell_type": "markdown",
   "metadata": {},
   "source": [
    "#### 63. How to find all the local maxima (or peaks) in a 1d array?\n",
    "\n",
    "Difficulty Level: L4\n",
    "\n",
    "Q. Find all the peaks in a 1D numpy array a. Peaks are points surrounded by smaller values on both sides."
   ]
  },
  {
   "cell_type": "code",
   "execution_count": 141,
   "metadata": {},
   "outputs": [
    {
     "data": {
      "text/plain": [
       "array([2, 5])"
      ]
     },
     "execution_count": 141,
     "metadata": {},
     "output_type": "execute_result"
    }
   ],
   "source": [
    "a = np.array([1, 3, 7, 1, 2, 6, 0, 1])\n",
    "doublediff = np.diff(np.sign(np.diff(a)))\n",
    "peak_locations = np.where(doublediff == -2)[0] + 1\n",
    "peak_locations"
   ]
  },
  {
   "cell_type": "markdown",
   "metadata": {},
   "source": [
    "##### 64. How to subtract a 1d array from a 2d array, where each item of 1d array subtracts from respective row?\n",
    "\n",
    "Difficulty Level: L2\n",
    "\n",
    "Q. Subtract the 1d array b_1d from the 2d array a_2d, such that each item of b_1d subtracts from respective row of a_2d."
   ]
  },
  {
   "cell_type": "code",
   "execution_count": 148,
   "metadata": {},
   "outputs": [
    {
     "name": "stdout",
     "output_type": "stream",
     "text": [
      "[[2 2 2]\n",
      " [3 3 3]\n",
      " [4 4 4]]\n"
     ]
    }
   ],
   "source": [
    "a_2d = np.array([[3,3,3],[4,4,4],[5,5,5]])\n",
    "b_1d = np.array([1,1,1])\n",
    "\n",
    "arr =np.subtract(a_2d, b_1d[:,None])\n",
    "\n",
    "arr"
   ]
  },
  {
   "cell_type": "markdown",
   "metadata": {},
   "source": [
    "##### 65. How to find the index of n'th repetition of an item in an array\n",
    "\n",
    "Difficulty Level L2\n",
    "\n",
    "Q. Find the index of 5th repetition of number 1 in x."
   ]
  },
  {
   "cell_type": "code",
   "execution_count": 149,
   "metadata": {},
   "outputs": [
    {
     "data": {
      "text/plain": [
       "8"
      ]
     },
     "execution_count": 149,
     "metadata": {},
     "output_type": "execute_result"
    }
   ],
   "source": [
    "x = np.array([1, 2, 1, 1, 3, 4, 3, 1, 1, 2, 1, 1, 2])\n",
    "n = 5\n",
    "\n",
    "[i for i, v in enumerate(x) if v == 1][n-1]"
   ]
  },
  {
   "cell_type": "markdown",
   "metadata": {},
   "source": [
    "##### 66. How to convert numpy's datetime64 object to datetime's datetime object?\n",
    "\n",
    "Difficulty Level: L2\n",
    "\n",
    "Q. Convert numpy's datetime64 object to datetime's datetime object"
   ]
  },
  {
   "cell_type": "code",
   "execution_count": 150,
   "metadata": {},
   "outputs": [
    {
     "data": {
      "text/plain": [
       "datetime.datetime(2018, 2, 25, 22, 10, 10)"
      ]
     },
     "execution_count": 150,
     "metadata": {},
     "output_type": "execute_result"
    }
   ],
   "source": [
    "from datetime import datetime\n",
    "dt64 = np.datetime64('2018-02-25 22:10:10')\n",
    "\n",
    "# astype converte para o tipo passado no parâmetro\n",
    "dt64.astype(datetime)"
   ]
  },
  {
   "cell_type": "markdown",
   "metadata": {},
   "source": [
    "##### 67. How to compute the moving average of a numpy array?\n",
    "\n",
    "Difficulty Level: L3\n",
    "\n",
    "Q. Compute the moving average of window size 3, for the given 1D array."
   ]
  },
  {
   "cell_type": "code",
   "execution_count": 151,
   "metadata": {},
   "outputs": [
    {
     "name": "stdout",
     "output_type": "stream",
     "text": [
      "array:  [8 8 3 7 7 0 4 2 5 2]\n"
     ]
    },
    {
     "data": {
      "text/plain": [
       "array([6.33, 6.  , 5.67, 4.67, 3.67, 2.  , 3.67, 3.  ])"
      ]
     },
     "execution_count": 151,
     "metadata": {},
     "output_type": "execute_result"
    }
   ],
   "source": [
    "def moving_average(a, n=3) :\n",
    "    ret = np.cumsum(a, dtype=float)\n",
    "    ret[n:] = ret[n:] - ret[:-n]\n",
    "    return ret[n - 1:] / n\n",
    "\n",
    "np.random.seed(100)\n",
    "Z = np.random.randint(10, size=10)\n",
    "print('array: ', Z)\n",
    "moving_average(Z, n=3).round(2)"
   ]
  },
  {
   "cell_type": "markdown",
   "metadata": {},
   "source": [
    "##### 68. How to create a numpy array sequence given only the starting point, length and the step?\n",
    "\n",
    "Difficulty Level: L2\n",
    "\n",
    "Q. Create a numpy array of length 10, starting from 5 and has a step of 3 between consecutive numbers"
   ]
  },
  {
   "cell_type": "code",
   "execution_count": 152,
   "metadata": {},
   "outputs": [
    {
     "data": {
      "text/plain": [
       "array([ 5,  8, 11, 14, 17, 20, 23, 26, 29, 32])"
      ]
     },
     "execution_count": 152,
     "metadata": {},
     "output_type": "execute_result"
    }
   ],
   "source": [
    "length = 10\n",
    "start = 5\n",
    "step = 3\n",
    "\n",
    "def seq(start, length, step):\n",
    "    end = start + (step*length)\n",
    "    return np.arange(start, end, step)\n",
    "\n",
    "seq(start, length, step)"
   ]
  },
  {
   "cell_type": "markdown",
   "metadata": {},
   "source": [
    "##### 69. How to fill in missing dates in an irregular series of numpy dates?\n",
    "\n",
    "Difficulty Level: L3\n",
    "\n",
    "Q. Given an array of a non-continuous sequence of dates. Make it a continuous sequence of dates, by filling in the missing dates."
   ]
  },
  {
   "cell_type": "code",
   "execution_count": 153,
   "metadata": {},
   "outputs": [
    {
     "name": "stdout",
     "output_type": "stream",
     "text": [
      "['2018-02-01' '2018-02-03' '2018-02-05' '2018-02-07' '2018-02-09'\n",
      " '2018-02-11' '2018-02-13' '2018-02-15' '2018-02-17' '2018-02-19'\n",
      " '2018-02-21' '2018-02-23']\n"
     ]
    }
   ],
   "source": [
    "dates = np.arange(np.datetime64('2018-02-01'), np.datetime64('2018-02-25'), 2)\n",
    "print(dates)\n",
    "\n",
    "filled_in = np.array([np.arange(date, (date+d)) for date, d in zip(dates, np.diff(dates))]).reshape(-1)\n"
   ]
  },
  {
   "cell_type": "markdown",
   "metadata": {},
   "source": [
    "##### 70. How to create strides from a given 1D array?\n",
    "\n",
    "Difficulty Level: L4\n",
    "\n",
    "Q. From the given 1d array arr, generate a 2d matrix using strides, with a window length of 4 and strides of 2, like [[0,1,2,3], [2,3,4,5], [4,5,6,7]..] "
   ]
  },
  {
   "cell_type": "code",
   "execution_count": 154,
   "metadata": {},
   "outputs": [
    {
     "name": "stdout",
     "output_type": "stream",
     "text": [
      "[[ 0  1  2  3]\n",
      " [ 2  3  4  5]\n",
      " [ 4  5  6  7]\n",
      " [ 6  7  8  9]\n",
      " [ 8  9 10 11]\n",
      " [10 11 12 13]]\n"
     ]
    }
   ],
   "source": [
    "def gen_strides(a, stride_len=5, window_len=5):\n",
    "    n_strides = ((a.size-window_len)//stride_len) + 1\n",
    "    return np.array([a[s:(s+window_len)] for s in np.arange(0, n_strides*stride_len, stride_len)])\n",
    "\n",
    "print(gen_strides(np.arange(15), stride_len=2, window_len=4))\n"
   ]
  }
 ],
 "metadata": {
  "kernelspec": {
   "display_name": "base",
   "language": "python",
   "name": "python3"
  },
  "language_info": {
   "codemirror_mode": {
    "name": "ipython",
    "version": 3
   },
   "file_extension": ".py",
   "mimetype": "text/x-python",
   "name": "python",
   "nbconvert_exporter": "python",
   "pygments_lexer": "ipython3",
   "version": "3.9.12"
  }
 },
 "nbformat": 4,
 "nbformat_minor": 2
}
