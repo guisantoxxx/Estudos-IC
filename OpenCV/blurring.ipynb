{
 "cells": [
  {
   "cell_type": "code",
   "execution_count": 1,
   "metadata": {},
   "outputs": [],
   "source": [
    "import cv2 as cv"
   ]
  },
  {
   "cell_type": "code",
   "execution_count": 16,
   "metadata": {},
   "outputs": [],
   "source": [
    "img = cv.imread('Fotos/cats.jpg')"
   ]
  },
  {
   "cell_type": "markdown",
   "metadata": {},
   "source": [
    "* Um kernel nada mais é do que o número de linhas e de colunas que será usado para analisar os pixels da imagem. Formando uma janela"
   ]
  },
  {
   "cell_type": "markdown",
   "metadata": {},
   "source": [
    "## Métodos de blurring"
   ]
  },
  {
   "cell_type": "markdown",
   "metadata": {},
   "source": [
    "### 1. Averaging\n",
    "* Utiliza a média dos pixels adjacentes no kernel (na janela)"
   ]
  },
  {
   "cell_type": "code",
   "execution_count": null,
   "metadata": {},
   "outputs": [
    {
     "data": {
      "text/plain": [
       "-1"
      ]
     },
     "execution_count": 7,
     "metadata": {},
     "output_type": "execute_result"
    }
   ],
   "source": [
    "# Nesse caso, estamos definindo o tamanho do kernel como 9 pixels, 3x3\n",
    "average = cv.blur(img, (5,5))\n",
    "\n",
    "cv.imshow('Averaging', average)\n",
    "cv.waitKey(0)"
   ]
  },
  {
   "cell_type": "markdown",
   "metadata": {},
   "source": [
    "### 2. Gaussian\n",
    "* No método gaussiano, é atribuído um peso para cada pixel da imagem, então é calculada a média do produto desses pesos.\n",
    "* è mais natural do que o averaging"
   ]
  },
  {
   "cell_type": "code",
   "execution_count": 15,
   "metadata": {},
   "outputs": [
    {
     "data": {
      "text/plain": [
       "-1"
      ]
     },
     "execution_count": 15,
     "metadata": {},
     "output_type": "execute_result"
    }
   ],
   "source": [
    "# Borra menos devido aos pesos dos pixels\n",
    "gaussian = cv.GaussianBlur(img, (3,3), 0)\n",
    "\n",
    "cv.imshow(\"Gaussian\", gaussian)\n",
    "cv.waitKey(0)"
   ]
  },
  {
   "cell_type": "markdown",
   "metadata": {},
   "source": [
    "### 3. Median\n",
    "* Utiliza a mediana dos pixels adjacentes\n",
    "* Melhor para tratar imagens com ruídos."
   ]
  },
  {
   "cell_type": "code",
   "execution_count": null,
   "metadata": {},
   "outputs": [
    {
     "data": {
      "text/plain": [
       "-1"
      ]
     },
     "execution_count": 18,
     "metadata": {},
     "output_type": "execute_result"
    }
   ],
   "source": [
    "# Nesse caso, é preciso apenas passar um valor para o kernel ( 5 corresponde a 5x5)\n",
    "median = cv.medianBlur(img, 5)\n",
    "\n",
    "cv.imshow(\"Median\", median)\n",
    "cv.waitKey(0)"
   ]
  },
  {
   "cell_type": "markdown",
   "metadata": {},
   "source": [
    "### 4. Bilateral Blurring\n",
    "* O mais efetivo\n",
    "* Aplica blurring mas mantém as bordas da imagem, o que distorcer menos a imagem"
   ]
  },
  {
   "cell_type": "code",
   "execution_count": 20,
   "metadata": {},
   "outputs": [
    {
     "data": {
      "text/plain": [
       "-1"
      ]
     },
     "execution_count": 20,
     "metadata": {},
     "output_type": "execute_result"
    }
   ],
   "source": [
    "# SigmaSpace, parâmetro passado, define a distância até a qual os pixels poderão influenciar o kernel\n",
    "bilateral = cv.bilateralFilter(img, 10, 15, 15)\n",
    "\n",
    "cv.imshow(\"Bilateral\", bilateral)\n",
    "cv.waitKey(0)"
   ]
  }
 ],
 "metadata": {
  "kernelspec": {
   "display_name": "Python 3",
   "language": "python",
   "name": "python3"
  },
  "language_info": {
   "codemirror_mode": {
    "name": "ipython",
    "version": 3
   },
   "file_extension": ".py",
   "mimetype": "text/x-python",
   "name": "python",
   "nbconvert_exporter": "python",
   "pygments_lexer": "ipython3",
   "version": "3.13.0"
  }
 },
 "nbformat": 4,
 "nbformat_minor": 2
}
