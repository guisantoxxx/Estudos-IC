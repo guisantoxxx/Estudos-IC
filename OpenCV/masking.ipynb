{
 "cells": [
  {
   "cell_type": "code",
   "execution_count": 3,
   "metadata": {},
   "outputs": [],
   "source": [
    "import cv2 as cv\n",
    "import numpy as np"
   ]
  },
  {
   "cell_type": "code",
   "execution_count": 2,
   "metadata": {},
   "outputs": [],
   "source": [
    "img = cv.imread('Fotos/cats.jpg')"
   ]
  },
  {
   "cell_type": "markdown",
   "metadata": {},
   "source": [
    "* Masking consiste em focar em determinadas partes de interesse da imagem. Tome como exemplo imagens de pessoas, se desejamos apenas os rostos, podemos utilizar máscaras para remover partes indesejadas, deixando apenas o rosto."
   ]
  },
  {
   "cell_type": "markdown",
   "metadata": {},
   "source": [
    "* As dimensões da máscara precisam ser *AS MESMAS* da imagem específica"
   ]
  },
  {
   "cell_type": "code",
   "execution_count": 7,
   "metadata": {},
   "outputs": [
    {
     "data": {
      "text/plain": [
       "-1"
      ]
     },
     "execution_count": 7,
     "metadata": {},
     "output_type": "execute_result"
    }
   ],
   "source": [
    "blank = np.zeros(img.shape[:2], dtype='uint8')\n",
    "\n",
    "mask = cv.circle(blank, (img.shape[1] // 2, img.shape[0]// 2), 100, 255, -1)\n",
    "\n",
    "cv.imshow('Mask', mask)\n",
    "cv.waitKey(0)"
   ]
  },
  {
   "cell_type": "markdown",
   "metadata": {},
   "source": [
    "Agora iremos criar uma imagem masked"
   ]
  },
  {
   "cell_type": "markdown",
   "metadata": {},
   "source": [
    "A lógica é a seguinte: criamos uma máscara para definir em que parte da imagem queremos focar, no caso do exemplo, a máscara é o círculo.\n",
    "Após criar o círculo definindo a região específica, aplicamos um operador bitwise and sobre a imagem original com ela mesma, porém passando a mascára que criamos como parâmetro, afim de recuperar apenas as partes desejadas no resultado."
   ]
  },
  {
   "cell_type": "code",
   "execution_count": null,
   "metadata": {},
   "outputs": [
    {
     "data": {
      "text/plain": [
       "-1"
      ]
     },
     "execution_count": 6,
     "metadata": {},
     "output_type": "execute_result"
    }
   ],
   "source": [
    "# Passa a máscara que ciramos como parâmetro \n",
    "masked = cv.bitwise_and(img,img, mask=mask)\n",
    "\n",
    "cv.imshow('Masked', masked)\n",
    "cv.waitKey(0)"
   ]
  }
 ],
 "metadata": {
  "kernelspec": {
   "display_name": "Python 3",
   "language": "python",
   "name": "python3"
  },
  "language_info": {
   "codemirror_mode": {
    "name": "ipython",
    "version": 3
   },
   "file_extension": ".py",
   "mimetype": "text/x-python",
   "name": "python",
   "nbconvert_exporter": "python",
   "pygments_lexer": "ipython3",
   "version": "3.13.0"
  }
 },
 "nbformat": 4,
 "nbformat_minor": 2
}
