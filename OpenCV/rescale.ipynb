{
 "cells": [
  {
   "cell_type": "code",
   "execution_count": 1,
   "metadata": {},
   "outputs": [],
   "source": [
    "import cv2 as cv"
   ]
  },
  {
   "cell_type": "markdown",
   "metadata": {},
   "source": [
    "#### Lendo imagens"
   ]
  },
  {
   "cell_type": "code",
   "execution_count": 2,
   "metadata": {},
   "outputs": [],
   "source": [
    "# cv.imread lê a imagem no caminho fornecido\n",
    "img = cv.imread(\"Fotos/cat_large.jpg\")"
   ]
  },
  {
   "cell_type": "code",
   "execution_count": null,
   "metadata": {},
   "outputs": [],
   "source": [
    "# cv.imshow mostra a imagem passada como parâmetro em uma janela nomeada\n",
    "cv.imshow(\"Cat\", img)\n",
    "\n",
    "# o parâmetro passado em cv.waitkey, se igual a 0,  mantém a janela aberta até que uma tecla seja pressionada\n",
    "# caso seja > 0, mantem a janela aberta por x  antes de fechar\n",
    "cv.waitKey(0)"
   ]
  },
  {
   "cell_type": "markdown",
   "metadata": {},
   "source": [
    "cria função para redimensionar a imagem, recebendo o frame e a escala como parâmetro"
   ]
  },
  {
   "cell_type": "code",
   "execution_count": 3,
   "metadata": {},
   "outputs": [],
   "source": [
    "# Nessa função, é passado o frame a ser redimensionado e a escala, que é 75% por padrão\n",
    "def rescaleFrame(frame, scale = 0.75):\n",
    "  # multiplica a largura e altura do frame pela escala, afim de redimensionar\n",
    "  width = int(frame.shape[1] * scale)\n",
    "  height = int(frame.shape[0] * scale)\n",
    "\n",
    "  # cria uma tupla com os novos valores\n",
    "  dimensions = (width, height)\n",
    "\n",
    "  # retorna a imagem redimensionada\n",
    "  return cv.resize(frame, dimensions)\n"
   ]
  },
  {
   "cell_type": "markdown",
   "metadata": {},
   "source": [
    "Uso para imagem"
   ]
  },
  {
   "cell_type": "code",
   "execution_count": 5,
   "metadata": {},
   "outputs": [
    {
     "data": {
      "text/plain": [
       "-1"
      ]
     },
     "execution_count": 5,
     "metadata": {},
     "output_type": "execute_result"
    }
   ],
   "source": [
    "img_resized = rescaleFrame(img, 0.5)\n",
    "\n",
    "cv.imshow('Cat resized', img_resized)\n",
    "cv.waitKey(0)"
   ]
  },
  {
   "cell_type": "markdown",
   "metadata": {},
   "source": [
    "Uso para vídeo"
   ]
  },
  {
   "cell_type": "code",
   "execution_count": null,
   "metadata": {},
   "outputs": [
    {
     "ename": "KeyboardInterrupt",
     "evalue": "",
     "output_type": "error",
     "traceback": [
      "\u001b[1;31m---------------------------------------------------------------------------\u001b[0m",
      "\u001b[1;31mKeyboardInterrupt\u001b[0m                         Traceback (most recent call last)",
      "Cell \u001b[1;32mIn[9], line 10\u001b[0m\n\u001b[0;32m      6\u001b[0m     frame_resized \u001b[38;5;241m=\u001b[39m rescaleFrame(frame, \u001b[38;5;241m0.2\u001b[39m)\n\u001b[0;32m      8\u001b[0m     cv\u001b[38;5;241m.\u001b[39mimshow(\u001b[38;5;124m\"\u001b[39m\u001b[38;5;124mVideo\u001b[39m\u001b[38;5;124m\"\u001b[39m, frame_resized)\n\u001b[1;32m---> 10\u001b[0m     \u001b[38;5;28;01mif\u001b[39;00m \u001b[43mcv\u001b[49m\u001b[38;5;241;43m.\u001b[39;49m\u001b[43mwaitKey\u001b[49m\u001b[43m(\u001b[49m\u001b[38;5;241;43m20\u001b[39;49m\u001b[43m)\u001b[49m \u001b[38;5;241m&\u001b[39m \u001b[38;5;241m0xFF\u001b[39m \u001b[38;5;241m==\u001b[39m \u001b[38;5;28mord\u001b[39m(\u001b[38;5;124m\"\u001b[39m\u001b[38;5;124md\u001b[39m\u001b[38;5;124m\"\u001b[39m):\n\u001b[0;32m     11\u001b[0m         \u001b[38;5;28;01mbreak\u001b[39;00m\n\u001b[0;32m     13\u001b[0m capture\u001b[38;5;241m.\u001b[39mrelease\n",
      "\u001b[1;31mKeyboardInterrupt\u001b[0m: "
     ]
    },
    {
     "ename": "",
     "evalue": "",
     "output_type": "error",
     "traceback": [
      "\u001b[1;31mThe Kernel crashed while executing code in the current cell or a previous cell. \n",
      "\u001b[1;31mPlease review the code in the cell(s) to identify a possible cause of the failure. \n",
      "\u001b[1;31mClick <a href='https://aka.ms/vscodeJupyterKernelCrash'>here</a> for more info. \n",
      "\u001b[1;31mView Jupyter <a href='command:jupyter.viewOutput'>log</a> for further details."
     ]
    }
   ],
   "source": [
    "capture = cv.VideoCapture(\"Videos/dog.mp4\")\n",
    "\n",
    "while True:\n",
    "    isTrue, frame = capture.read()\n",
    "\n",
    "    # redimensiona frame a frame antes de mostrar\n",
    "    frame_resized = rescaleFrame(frame)\n",
    "\n",
    "    cv.imshow(\"Video_resized\", frame_resized)\n",
    "\n",
    "    if cv.waitKey(20) & 0xFF == ord(\"d\"):\n",
    "        break\n",
    "\n",
    "capture.release\n",
    "cv.destroyAllWindows()"
   ]
  },
  {
   "cell_type": "markdown",
   "metadata": {},
   "source": [
    "Função que pode ser usada para redimensionar a captura de vídeo em tempo real"
   ]
  },
  {
   "cell_type": "code",
   "execution_count": null,
   "metadata": {},
   "outputs": [],
   "source": [
    "def changeRes(width, height):\n",
    "  capture.set(3, width)\n",
    "  capture.set(4, height)"
   ]
  }
 ],
 "metadata": {
  "kernelspec": {
   "display_name": "Python 3",
   "language": "python",
   "name": "python3"
  },
  "language_info": {
   "codemirror_mode": {
    "name": "ipython",
    "version": 3
   },
   "file_extension": ".py",
   "mimetype": "text/x-python",
   "name": "python",
   "nbconvert_exporter": "python",
   "pygments_lexer": "ipython3",
   "version": "3.13.0"
  }
 },
 "nbformat": 4,
 "nbformat_minor": 2
}
