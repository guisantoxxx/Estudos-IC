{
 "cells": [
  {
   "cell_type": "code",
   "execution_count": 4,
   "metadata": {},
   "outputs": [],
   "source": [
    "import cv2 as cv\n",
    "import numpy as np"
   ]
  },
  {
   "cell_type": "code",
   "execution_count": 25,
   "metadata": {},
   "outputs": [],
   "source": [
    "img = cv.imread('Fotos/park.jpg')"
   ]
  },
  {
   "cell_type": "markdown",
   "metadata": {},
   "source": [
    "#### Translação (deslocar)"
   ]
  },
  {
   "cell_type": "markdown",
   "metadata": {},
   "source": [
    "Iremos criar uma função para deslocar uma imagem"
   ]
  },
  {
   "cell_type": "code",
   "execution_count": null,
   "metadata": {},
   "outputs": [],
   "source": [
    "def translate(img, x, y):\n",
    "  # Cria uma matriz de translação\n",
    "  transMat = np.float32([[1,0,x], [0,1,y]])\n",
    "\n",
    "  # Cria uma tupla para armazenar width e height da imagem\n",
    "  dimensions = (img.shape[1], img.shape[0])\n",
    "\n",
    "  # cv.WarpAffine aplica as transformações sobre a imagem\n",
    "  return cv.warpAffine(img, transMat, dimensions)"
   ]
  },
  {
   "cell_type": "markdown",
   "metadata": {},
   "source": [
    "* -x -> para a esquerda\n",
    "* -y -> para cima\n",
    "*  x -> para a direita\n",
    "*  y -> para baixo"
   ]
  },
  {
   "cell_type": "code",
   "execution_count": 8,
   "metadata": {},
   "outputs": [
    {
     "data": {
      "text/plain": [
       "-1"
      ]
     },
     "execution_count": 8,
     "metadata": {},
     "output_type": "execute_result"
    }
   ],
   "source": [
    "translated = translate(img, 100, 100)\n",
    "\n",
    "cv.imshow('Translated', translated)\n",
    "\n",
    "cv.waitKey(0)"
   ]
  },
  {
   "cell_type": "markdown",
   "metadata": {},
   "source": [
    "#### Rotação"
   ]
  },
  {
   "cell_type": "code",
   "execution_count": 12,
   "metadata": {},
   "outputs": [],
   "source": [
    "def rotation(img, angle, rotPoint = None):\n",
    "  # recupera as medidas da imagem\n",
    "  (height, width) = (img.shape[0], img.shape[1])\n",
    "\n",
    "  # Define o ponto de rotação, se for nulo, define o centro da imagem\n",
    "  if rotPoint is None:\n",
    "    rotPoint = (width // 2, height // 2)\n",
    "\n",
    "  # Cria a matriz de rotação\n",
    "  rotMat = cv.getRotationMatrix2D(rotPoint, angle, 1.0)\n",
    "  dimensions = (width, height)\n",
    "\n",
    "  return cv.warpAffine(img, rotMat, dimensions)"
   ]
  },
  {
   "cell_type": "code",
   "execution_count": 14,
   "metadata": {},
   "outputs": [
    {
     "data": {
      "text/plain": [
       "-1"
      ]
     },
     "execution_count": 14,
     "metadata": {},
     "output_type": "execute_result"
    }
   ],
   "source": [
    "rotated = rotation(img, 45)\n",
    "\n",
    "cv.imshow('Rotated', rotated)\n",
    "cv.waitKey(0)"
   ]
  },
  {
   "cell_type": "markdown",
   "metadata": {},
   "source": [
    "#### Resize"
   ]
  },
  {
   "cell_type": "code",
   "execution_count": 16,
   "metadata": {},
   "outputs": [
    {
     "data": {
      "text/plain": [
       "-1"
      ]
     },
     "execution_count": 16,
     "metadata": {},
     "output_type": "execute_result"
    }
   ],
   "source": [
    "resized = cv.resize(img, (500,500), interpolation= cv.INTER_AREA)\n",
    "\n",
    "cv.imshow(\"Resize\", resized)\n",
    "cv.waitKey(0)"
   ]
  },
  {
   "cell_type": "markdown",
   "metadata": {},
   "source": [
    "#### Flipping\n",
    "O método flip pode ter 3 possíveis valores de flip code, 1, 0 ou -1:\n",
    "* 0 vira a imagem na vertical\n",
    "* 1 vira a imagem na horizontal\n",
    "* -1 vira a imagem tanto na vertical quanto na horizontal"
   ]
  },
  {
   "cell_type": "code",
   "execution_count": null,
   "metadata": {},
   "outputs": [
    {
     "data": {
      "text/plain": [
       "-1"
      ]
     },
     "execution_count": 22,
     "metadata": {},
     "output_type": "execute_result"
    }
   ],
   "source": [
    "flip = cv.flip(img, 0)\n",
    "\n",
    "cv.imshow(\"Flipped\", flip)\n",
    "cv.waitKey(0)"
   ]
  },
  {
   "cell_type": "markdown",
   "metadata": {},
   "source": [
    "#### Cropping"
   ]
  },
  {
   "cell_type": "code",
   "execution_count": 26,
   "metadata": {},
   "outputs": [
    {
     "data": {
      "text/plain": [
       "-1"
      ]
     },
     "execution_count": 26,
     "metadata": {},
     "output_type": "execute_result"
    }
   ],
   "source": [
    "# faz um slice nos pixels que representam a altura e largura,respectivamente\n",
    "cropped = img[:, 200:300]\n",
    "\n",
    "cv.imshow(\"Cropped\", cropped)\n",
    "cv.waitKey(0)"
   ]
  }
 ],
 "metadata": {
  "kernelspec": {
   "display_name": "Python 3",
   "language": "python",
   "name": "python3"
  },
  "language_info": {
   "codemirror_mode": {
    "name": "ipython",
    "version": 3
   },
   "file_extension": ".py",
   "mimetype": "text/x-python",
   "name": "python",
   "nbconvert_exporter": "python",
   "pygments_lexer": "ipython3",
   "version": "3.13.0"
  }
 },
 "nbformat": 4,
 "nbformat_minor": 2
}
