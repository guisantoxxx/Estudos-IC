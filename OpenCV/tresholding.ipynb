{
 "cells": [
  {
   "cell_type": "code",
   "execution_count": 1,
   "metadata": {},
   "outputs": [],
   "source": [
    "import cv2 as cv"
   ]
  },
  {
   "cell_type": "code",
   "execution_count": 2,
   "metadata": {},
   "outputs": [],
   "source": [
    "img = cv.imread('Fotos/cats.jpg')"
   ]
  },
  {
   "cell_type": "code",
   "execution_count": 3,
   "metadata": {},
   "outputs": [],
   "source": [
    "gray = cv.cvtColor(img, cv.COLOR_BGR2GRAY)"
   ]
  },
  {
   "cell_type": "markdown",
   "metadata": {},
   "source": [
    "#### Tresholding nada mais é do que a binarização da imagem, uma imagem onde os pixels são ou branco ou preto"
   ]
  },
  {
   "cell_type": "markdown",
   "metadata": {},
   "source": [
    "### 1. Simple Tresholding\n",
    "* É preciso especificar manualmente o valor de tresholding"
   ]
  },
  {
   "cell_type": "markdown",
   "metadata": {},
   "source": [
    "No exemplo abaixo, 150 é o valor de treshold, abaixo disso o pixel é preto e acima é branco"
   ]
  },
  {
   "cell_type": "markdown",
   "metadata": {},
   "source": [
    "A função retorna dois valores:\n",
    "* tresh sendo a imagem binarizada\n",
    "* treshold sendo o mesmo valor passado como parâmetro de treshold"
   ]
  },
  {
   "cell_type": "code",
   "execution_count": 4,
   "metadata": {},
   "outputs": [
    {
     "data": {
      "text/plain": [
       "-1"
      ]
     },
     "execution_count": 4,
     "metadata": {},
     "output_type": "execute_result"
    }
   ],
   "source": [
    "treshold, tresh = cv.threshold(gray, 150, 255, cv.THRESH_BINARY)\n",
    "\n",
    "cv.imshow('Simple Treshold', tresh)\n",
    "cv.waitKey(0)"
   ]
  },
  {
   "cell_type": "markdown",
   "metadata": {},
   "source": [
    "É possível criar uma imagem treshold invertida\n",
    "* Basta mudar o cv.TRESH_BINARY para TRESH_BINARY_INV"
   ]
  },
  {
   "cell_type": "code",
   "execution_count": 5,
   "metadata": {},
   "outputs": [
    {
     "data": {
      "text/plain": [
       "-1"
      ]
     },
     "execution_count": 5,
     "metadata": {},
     "output_type": "execute_result"
    }
   ],
   "source": [
    "treshold, tresh_inv = cv.threshold(gray, 150, 255, cv.THRESH_BINARY_INV)\n",
    "\n",
    "cv.imshow(\"Simple Treshold Inverse\", tresh_inv)\n",
    "cv.waitKey(0)"
   ]
  },
  {
   "cell_type": "markdown",
   "metadata": {},
   "source": [
    "### 2. Adaptive Tresholding\n",
    "* O próprio computador encontra o valor de tresholding ideal.\n",
    "* Assim, é preferível utilizar o adaptive"
   ]
  },
  {
   "cell_type": "code",
   "execution_count": null,
   "metadata": {},
   "outputs": [
    {
     "data": {
      "text/plain": [
       "-1"
      ]
     },
     "execution_count": 12,
     "metadata": {},
     "output_type": "execute_result"
    }
   ],
   "source": [
    "# É preciso passar qual método será usado para encontrar o valor ideal de treshold\n",
    "# no caso, o método usado é  cv.ADAPTIVE_THRESH_MEAN_C, pode também ser o método gaussiano, média, etc\n",
    "adaptive_tresh = cv.adaptiveThreshold(gray, 255, cv.ADAPTIVE_THRESH_MEAN_C, cv.THRESH_BINARY, 11, 3)\n",
    "\n",
    "cv.imshow(\"Adaptive Treshold\", adaptive_tresh)\n",
    "cv.waitKey(0)"
   ]
  }
 ],
 "metadata": {
  "kernelspec": {
   "display_name": "Python 3",
   "language": "python",
   "name": "python3"
  },
  "language_info": {
   "codemirror_mode": {
    "name": "ipython",
    "version": 3
   },
   "file_extension": ".py",
   "mimetype": "text/x-python",
   "name": "python",
   "nbconvert_exporter": "python",
   "pygments_lexer": "ipython3",
   "version": "3.13.0"
  }
 },
 "nbformat": 4,
 "nbformat_minor": 2
}
